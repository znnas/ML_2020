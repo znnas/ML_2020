{
 "cells": [
  {
   "cell_type": "markdown",
   "metadata": {},
   "source": [
    "# Алгоритмы интеллектуальной обработки больших объемов данных\n",
    "## Домашнее задание №2: Линейные модели\n"
   ]
  },
  {
   "cell_type": "markdown",
   "metadata": {},
   "source": [
    "###### <hr\\>\n",
    "**Общая информация**\n",
    "\n",
    "**Срок сдачи:** 24 марта 18:00 Сдача **очная** на занятии. <br\\>\n",
    "\n",
    "\n",
    "Используйте данный Ipython Notebook при оформлении домашнего задания.\n",
    "\n",
    "**Штрафные баллы:**\n",
    "\n",
    "1. Невыполнение PEP8 -1 балл\n",
    "2. Отсутствие фамилии в имени скрипта (скрипт должен называться по аналогии со stroykova_hw2.ipynb) -1 балл\n",
    "3. Все строчки должны быть выполнены. Нужно, чтобы output команды можно было увидеть уже в git'е. В противном случае -1 балл\n",
    "4. При оформлении ДЗ нужно пользоваться данным файлом в качестве шаблона. Не нужно удалять и видоизменять написанный код и текст, если явно не указана такая возможность. В противном случае -1 балл\n",
    "<hr\\>"
   ]
  },
  {
   "cell_type": "code",
   "execution_count": 1,
   "metadata": {},
   "outputs": [],
   "source": [
    "import pandas as pd\n",
    "import numpy as np\n",
    "import matplotlib.pyplot as plt\n",
    "\n",
    "%matplotlib inline\n",
    "\n",
    "plt.style.use('ggplot')\n",
    "plt.rcParams['figure.figsize'] = (12,5)"
   ]
  },
  {
   "cell_type": "markdown",
   "metadata": {},
   "source": [
    "Здравствуйте, уважаемые студенты! \n",
    "\n",
    "В этом задании мы будем реализовать линейные модели. Необходимо реализовать линейную и логистическую регрессии с L2 регуляризацией"
   ]
  },
  {
   "cell_type": "markdown",
   "metadata": {},
   "source": [
    "# Теоретическое введение\n",
    "\n"
   ]
  },
  {
   "cell_type": "markdown",
   "metadata": {},
   "source": [
    "Линейная регрессия решает задачу регрессии и оптимизирует функцию потерь MSE \n",
    "\n",
    "$$L(w) =  \\frac{1}{N}\\left[\\sum_i (y_i - a_i) ^ 2 \\right], $$ где $y_i$ $-$ целевая функция,  $a_i = a(x_i) =  \\langle\\,x_i,w\\rangle ,$ $-$ предсказание алгоритма на объекте $x_i$, $w$ $-$ вектор весов (размерности $D$), $x_i$ $-$ вектор признаков (такой же размерности $D$).\n",
    "\n",
    "Не забываем, что здесь и далее  мы считаем, что в $x_i$ есть тождественный вектор единиц, ему соответствует вес $w_0$.\n",
    "\n"
   ]
  },
  {
   "cell_type": "markdown",
   "metadata": {},
   "source": [
    "Логистическая регрессия является линейным классификатором, который оптимизирует так называемый функционал log loss:"
   ]
  },
  {
   "cell_type": "markdown",
   "metadata": {},
   "source": [
    "$$L(w) = - \\frac{1}{N}\\left[\\sum_i y_i \\log a_i + ( 1 - y_i) \\log (1 - a_i) \\right],$$\n",
    "где  $y_i  \\in \\{0,1\\}$ $-$ метка класса, $a_i$ $-$ предсказание алгоритма на объекте $x_i$. Модель пытается предсказать апостериорую вероятность объекта принадлежать к классу \"1\":\n",
    "$$ p(y_i = 1 | x_i) = a(x_i) =  \\sigma( \\langle\\,x_i,w\\rangle ),$$\n",
    "$w$ $-$ вектор весов (размерности $D$), $x_i$ $-$ вектор признаков (такой же размерности $D$).\n",
    "\n",
    "Функция $\\sigma(x)$ $-$ нелинейная функция, пероводящее скалярное произведение объекта на веса в число $\\in (0,1)$ (мы же моделируем вероятность все-таки!)\n",
    "\n",
    "$$\\sigma(x) = \\frac{1}{1 + \\exp(-x)}$$\n",
    "\n",
    "Если внимательно посмотреть на функцию потерь, то можно заметить, что в зависимости от правильного ответа алгоритм штрафуется или функцией $-\\log a_i$, или функцией $-\\log (1 - a_i)$.\n",
    "\n"
   ]
  },
  {
   "cell_type": "markdown",
   "metadata": {},
   "source": [
    "Часто для решения проблем, которые так или иначе связаны с проблемой переобучения, в функционал качества добавляют слагаемое, которое называют ***регуляризацией***. Итоговый функционал для линейной регрессии тогда принимает вид:\n",
    "\n",
    "$$L(w) =  \\frac{1}{N}\\left[\\sum_i (y_i - a_i) ^ 2 \\right] + \\frac{1}{C}R(w) $$\n",
    "\n",
    "Для логистической: \n",
    "$$L(w) = - \\frac{1}{N}\\left[\\sum_i y_i \\log a_i + ( 1 - y_i) \\log (1 - a_i) \\right] +  \\frac{1}{C}R(w)$$\n",
    "\n",
    "Самое понятие регуляризации введено основателем ВМК академиком Тихоновым https://ru.wikipedia.org/wiki/Метод_регуляризации_Тихонова\n",
    "\n",
    "Идейно методика регуляризации заключается в следующем $-$ мы рассматриваем некорректно поставленную задачу (что это такое можно найти в интернете), для того чтобы сузить набор различных вариантов (лучшие из которых будут являться переобучением ) мы вводим дополнительные ограничения на множество искомых решений. На лекции Вы уже рассмотрели два варианта регуляризации.\n",
    "\n",
    "$L1$ регуляризация:\n",
    "$$R(w) = \\sum_{j=1}^{D}|w_j|$$\n",
    "$L2$ регуляризация:\n",
    "$$R(w) =  \\sum_{j=1}^{D}w_j^2$$\n",
    "\n",
    "С их помощью мы ограничиваем модель в  возможности выбора каких угодно весов минимизирующих наш лосс, модель уже не сможет подстроиться под данные как ей угодно. \n",
    "\n",
    "Вам нужно добавить соотвествущую Вашему варианту $L2$ регуляризацию.\n",
    "\n",
    "И так, мы поняли, какую функцию ошибки будем минимизировать, разобрались, как получить предсказания по объекту и обученным весам. Осталось разобраться, как получить оптимальные веса. Для этого нужно выбрать какой-то метод оптимизации.\n",
    "\n"
   ]
  },
  {
   "cell_type": "markdown",
   "metadata": {},
   "source": [
    "Градиентный спуск является самым популярным алгоритмом обучения линейных моделей. В этом задании Вам предложат реализовать стохастический градиентный спуск или  мини-батч градиентный спуск (мини-батч на русский язык довольно сложно перевести, многие переводят это как \"пакетный\", но мне не кажется этот перевод удачным). Далее нам потребуется определение **эпохи**.\n",
    "Эпохой в SGD и MB-GD называется один проход по **всем** объектам в обучающей выборки.\n",
    "* В SGD градиент расчитывается по одному случайному объекту. Сам алгоритм выглядит примерно так:\n",
    "        1) Перемешать выборку\n",
    "        2) Посчитать градиент функции потерь на одном объекте (далее один объект тоже будем называть батчем)\n",
    "        3) Сделать шаг спуска\n",
    "        4) Повторять 2) и 3) пока не пройдет максимальное число эпох.\n",
    "* В Mini Batch SGD - по подвыборке объектов. Сам алгоритм выглядит примерно так::\n",
    "        1) Перемешать выборку, выбрать размер мини-батча (от 1 до размера выборки)\n",
    "        2) Почитать градиент функции потерь по мини-батчу (не забыть поделить на  число объектов в мини-батче)\n",
    "        3) Сделать шаг спуска\n",
    "        4) Повторять 2) и 3) пока не пройдет максимальное число эпох.\n",
    "* Для отладки алгоритма реализуйте возможность  вывода средней ошибки на обучении модели по объектам (мини-батчам). После шага градиентного спуска посчитайте значение ошибки на объекте (или мини-батче), а затем усредните, например, по ста шагам. Если обучение проходит корректно, то мы должны увидеть, что каждые 100 шагов функция потерь уменьшается. \n",
    "* Правило останова - максимальное количество эпох\n",
    "    \n"
   ]
  },
  {
   "cell_type": "markdown",
   "metadata": {},
   "source": [
    "# Теоретические вопросы (2 балла)\n",
    "В этой части Вам будут предложены теоретичские вопросы и задачи по теме. Вы, конечно, можете списать их у своего товарища или найти решение в интернете, но учтите, что они обязательно войдут в теоретический коллоквиум. Лучше разобраться в теме сейчас и успешно ответить на коллоквиуме, чем списать, не разобравшись в материале, и быть терзаемым совестью. \n",
    "\n",
    "\n",
    "Формулы надо оформлять в формате **LaTeX**."
   ]
  },
  {
   "cell_type": "markdown",
   "metadata": {},
   "source": [
    "Задача 1. Градиент для линейной регрессии.\n",
    "* Выпишите формулу обновления весов для линейной регрессии с L2 регуляризацией для мини-батч градиентого спуска размера $n$:\n",
    "\n",
    "$$ w_{new} = w_{old} - ... $$\n",
    "\n",
    " Отнеситесь к этому пункту максимально серьезно, это Вам нужно будет реализовать в задании.\n",
    " \n",
    "Проанализруйте итоговую формулу градиента - как  интуитивно можно  описать, чему равен градиент?"
   ]
  },
  {
   "cell_type": "markdown",
   "metadata": {},
   "source": [
    "***Ваше решение здесь***\n",
    "\n",
    "Формула для градиентного спуска (обычного, пакетного, случайного) выглядит так\n",
    "$$ \n",
    "w_{new} = w_{old} - h \\nabla_w Q(x,w_{old}),\n",
    "$$\n",
    "где $h$ - темп обучения, а $Q(x,w)$ - функционал качества. Разница в \"спусках\" только в данных, которые мы подставляем в функционал.\n",
    "\n",
    "Значит нужно найти градиент функционала качества: \n",
    "$$\n",
    "\\nabla_w Q(x,w) = \\nabla_w ( \\frac{1}{n}||Xw - y||^2 + w^T\\lambda Iw),\n",
    "$$\n",
    "где $n$ - размер подвыборки, по которой мы делаем шаг спуска, $\\lambda$ - параметр регуляризации.\n",
    "\n",
    "Считаем:\n",
    "$$\n",
    "\\nabla_w (w^T\\lambda Iw) = 2\\lambda Iw\n",
    "$$\n",
    "$$\n",
    "\\nabla_w (\\frac{1}{n}||Xw - y||^2) =   \\nabla_w (\\frac{1}{n} (w^T X^T Xw - w^T X^T y - y^T Xw + y^Ty)) =  \\frac{2}{n} (X^TXw - X^Ty) \n",
    "$$\n",
    "Таким образом, \n",
    "$$\n",
    "\\nabla_w Q(x,w)  =  \\frac{2}{n} (X^TXw - X^Ty) + 2\\lambda Iw = 2((\\frac{1}{n} X^TX +  \\lambda I)w - \\frac{1}{n}X^Ty)\n",
    "$$\n",
    "\n",
    "Искомая формула пересчёта весов для линейной регрессии с L2 регуляризацией для мини-батч градиентого спуска размера $n$:\n",
    "\n",
    "$$ w_{new} =  w_{old} - 2h((\\frac{1}{n} X^TX +  \\lambda I)w_{old} - \\frac{1}{n}X^Ty) $$\n",
    "\n",
    "Заметим, что размерность $X$ - $(n,D)$, $y$ - $(n,1)$.\n",
    "\n",
    "***Конец решения***"
   ]
  },
  {
   "cell_type": "markdown",
   "metadata": {},
   "source": [
    "Задача 2. Градиент для логистической регрессии.\n",
    "* Выпишите формулу обновления весов для логистической регрессии с L2 регуляризацией  для мини-батч градиентого спуска размера $n$:\n",
    "\n",
    "$$ w_{new} = w_{old} - ... $$\n",
    "\n",
    " Отнеситесь к этому пункту максимально серьезно, это Вам нужно будет реализовать в задании.\n",
    " \n",
    "Проанализруйте итоговую формулу градиента - как  интуитивно можно  описать, чему равен градиент? Как соотносится этот градиент с градиентом, возникающий в задаче линейной регрессии?\n",
    "\n",
    "Подсказка: Вам градиент, которой получается если “в лоб” продифференцировать,  надо немного преобразовать.\n",
    "Надо подставить, что $1 - \\sigma(w,x) $ это  $1 - a(x_i)$, а  $-\\sigma(w,x)$ это $0 - a(x_i)$.  Тогда получится свести к одной красивой формуле с линейной регрессией, которую программировать будет намного проще."
   ]
  },
  {
   "cell_type": "markdown",
   "metadata": {},
   "source": [
    "***Ваше решение здесь***\n",
    "\n",
    "Опять ищем градиент для функционала качества.\n",
    "$$ \n",
    "\\nabla_w Q(w) = \\nabla_w \\left( -\\frac{1}{n}\\left[\\sum_i y_i \\log a_i  + (1 - y_i) \\log (1 - a_i) \\right] + w^T\\lambda Iw\\right),\n",
    "$$\n",
    "где $n$ - размер подвыборки для шага. \n",
    "\n",
    "Легко видеть, что \n",
    "$$\n",
    "\\nabla_w (w^T\\lambda Iw)  = 2\\lambda Iw\n",
    "$$\n",
    "\n",
    "Перед подсчётом градиента первого слагаемого найдём\n",
    "\n",
    "$$ \\nabla_w a_i  = \\nabla_w \\left( \\frac{1}{1 + \\exp(-\\left< x_i,w \\right>)} \\right) = $$\n",
    "\n",
    "$$ \\frac{ x_i \\exp(-\\left< x_i,w\\right> )}{(1 + \\exp(-\\left< x_i,w \\right>))^2}  = \\sigma(\\left< x_i,w\\right>)^2 x_i \\exp(-\\left< x_i,w \\right> ). $$\n",
    "\n",
    "Ищем вектор частных производных LogLoss функции на одном слагаемом.\n",
    "$$\n",
    "\\nabla_w L(w) = \\nabla_w (y_i \\log a_i  + (1 - y_i) \\log (1 - a_i)) =\n",
    "$$\n",
    "\n",
    "$$\n",
    "-\\left( y_i \\frac{a_i^2 x_i \\exp(-\\left< x_i,w\\right>)}{a_i} - (1 - y_i) \\frac{ a_i^2 x_i \\exp(-\\left<x_i,w\\right>)}{1 - a_i}\\right) = \n",
    "$$\n",
    "\n",
    "$$\n",
    "-a_i^2 x_i \\exp(-\\left< x_i,w\\right>) \\left(\\frac{-y_i}{ - a_i} - \\frac{1 - y_i}{1 - a_i}\\right) = \n",
    "$$\n",
    "\n",
    "$$\n",
    "-a_i^2 x_i \\exp(-\\langle\\,x_i,w\\rangle) \\frac{a_i - y_i}{ - a_i(1 - a_i)} = \n",
    "$$\n",
    "\n",
    "$$\n",
    "\\frac {a_i x_i \\exp(-\\langle\\,x_i,w\\rangle) (a_i - y_i)}{1 - a_i} = x_i  (a_i - y_i)\n",
    "$$\n",
    "Последнее равенство верно, так как $a_i \\exp(-\\langle\\,x_i,w\\rangle)=1-a_i$.\n",
    "\n",
    "Таким образом, \n",
    "\n",
    "$$\n",
    "\\nabla_w Q(x,w) =  \\frac{1}{n}X^T(a - y) +  2\\lambda Iw,\n",
    "$$\n",
    "\n",
    "где $a=(a_1,...,a_l),\\,y=(y_1,...,y_l)$, $x_i$ - строки матрицы $X$.\n",
    "\n",
    "Итог:\n",
    "\n",
    "$$ w_{new} = w_{old} - h\\left(\\frac{1}{n}X^T(a_{old}-y) - 2\\lambda Iw_{old} \\right) $$\n",
    "\n",
    "***Конец решения***"
   ]
  },
  {
   "cell_type": "markdown",
   "metadata": {},
   "source": [
    "Задача 3. Точное решение линейной регрессии\n",
    "\n",
    "На лекции было показано, что точное решение линейной регрессии имеет вид $w = (X^TX)^{-1}X^TY $. \n",
    "* Покажите, что это действительно является точкой минимума в случае, если матрица X имеет строк не меньше, чем столбцов и имеет полный ранг. Подсказка: посчитайте Гессиан и покажите, что в этом случае он положительно определен. \n",
    "* Выпишите точное решение для модели с $L2$ регуляризацией. Как L2 регуляризация помогает с точным решением где матрица X имеет линейно зависимые признаки?"
   ]
  },
  {
   "cell_type": "markdown",
   "metadata": {},
   "source": [
    "***Ваше решение здесь***\n",
    "\n",
    "1) Для того, чтобы получить Гессиан, продифференцируем выражение из первой задачи (слагаемое без регуляризации).\n",
    "\n",
    "$$  \\nabla_w \\nabla_w (Q(x,w))  = \\nabla_w \\frac{2}{n}(X^TXw - X^Ty) = \\frac{2}{n}X^TX $$\n",
    "\n",
    "Проверим полож.опр-ность, хотим: для всех $p$ верно $p^T X^TX p \\geq 0$, причём $=$ т.и т.т, к. $p=0$.\n",
    "\n",
    "Произведение $X^TX$ можно записать как:\n",
    "$$S = X^TX = \\sum_{i=1}^{N}x^T_ix_i, $$\n",
    "где $x_i$ - строки матрицы X с длиной D, равной числу признаков.\n",
    "\n",
    "Каждое слагаемое $S_i = x^T_ix_i$ - это матрица размера $(D,D)$. Возьмем произвольный $p$, тогда:\n",
    "\n",
    "$p^TS_ip = p^Tx^T_ix_ip=\\left< p,x_i \\right>^2$ - квадрат скалярного произведения. Таким образом $p^TS_ip \\geq 0$,  а равенство 0 достигается, если $p$ ортогонален $x_i$. \n",
    "\n",
    "Тогда сумма может обратиться в ноль, только если $p$ ортогонален всем $x_i$.\n",
    "\n",
    "То есть, если найдётся $D$ линейно независимых векторов-признаков $x_i$, то матрица положительно опр-на (в противном случае неотрицательно опр-на); так как в пространстве размерности $D$ не останется линейно незав. векторов с системой векторов-признаков.\n",
    "\n",
    "Таким образом, при достаточном количестве разнородных данных минимум найдётся."
   ]
  },
  {
   "cell_type": "markdown",
   "metadata": {},
   "source": [
    "2) Воспользуемся началом решения задачи 1 и выпишем градиент функционала качества с L2 регуляризацией:\n",
    "\n",
    "\n",
    "$$  \\nabla_w Q(x,w) = \\nabla_w ( \\frac{1}{N}||Xw - y||^2 + w^T\\lambda Iw) = 2((X^TX +  \\lambda I)w - X^Ty) = 0 $$\n",
    "\n",
    "Тогда\n",
    "\n",
    "$$ w = (X^TX + \\lambda I)^{-1}X^Ty $$\n",
    "\n",
    "***Прибавление*** $\\lambda I$ к $X^TX$, то есть прибавление числа $\\lambda$ к каждому диагональному элементу $X^TX$, ***обеспечивает обратимость*** $(X^TX + \\lambda I)$, начиная с некоторого достаточно большого $\\lambda$.\n",
    "\n",
    "***Конец решения***"
   ]
  },
  {
   "cell_type": "markdown",
   "metadata": {},
   "source": [
    "Задача 4.  Предсказываем вероятности.\n",
    "\n",
    "Когда говорят о логистической регрессии, произносят фразу, что она \"предсказывает вероятности положительного класса\". Давайте разберемся, что же за этим стоит. Посчитаем математическое ожидание функции потерь и проверим, что предсказание алгоритма, оптимизирующее это мат. ожидание, будет являться вероятностью положительного класса. \n",
    "\n",
    "И так, функция потерь на объекте $x_i$, который имеет метку $y_i \\in \\{0,1\\}$  для предсказания $a(x_i)$ равна:\n",
    "$$L(y_i, b) =-[y_i == 1] \\log a(x_i)  - [y_i == 0] \\log(1 - a(x_i)) $$\n",
    "\n",
    "Где $[]$ означает индикатор $-$ он равен единице, если значение внутри него истинно, иначе он равен нулю. Тогда мат. ожидание при условии конкретного $x_i$  по определение мат. ожидания дискретной случайной величины:\n",
    "$$E(L | x_i) = -p(y_i = 1 |x_i ) \\log a(x_i)  - p(y_i = 0 | x_i) \\log( 1 - a(x_i))$$\n",
    "* Докажите, что значение $a(x_i)$, минимизирующее данное мат. ожидание, в точности равно $p(y_i = 1 |x_i)$, то есть равно вероятности положительного класса.\n",
    "\n",
    "Подсказка: возможно, придется воспользоваться, что  $p(y_i = 1 | x_i) + p(y_i = 0 | x_i) = 1$"
   ]
  },
  {
   "cell_type": "markdown",
   "metadata": {},
   "source": [
    "***Ваше решение здесь***\n",
    "\n",
    "Обозначим $ p_i = p(y_i = 1 |x_i ) $, тогда $ p(y_i = 0 | x_i) = 1 - p_i$\n",
    "\n",
    "Mат. ожидание $L$ при условии конкретного $x_i$ дано выше. Чтобы найти оптимальное a(x_i), возьмем производную мат. ожидания по a(x_i).\n",
    "\n",
    "\\begin{multline*}\n",
    "(E(L | x_i))^{'}  = \\frac{-p_i a^{'}(x_i)}{a(x_i)} + \\frac{(1 - p_i)a^{'}(x_i)}{1 - a(x_i)} = a^{'}(x_i) (\\frac{1-p_i}{1 - a(x_i)} - \\frac{p_i}{a(x_i)}) = \\\\\n",
    "a^{'}(x_i) \\frac{a(x_i) - p_ia(x_i) - p_i + p_ia(x_i)}{a(x_i)(1 - a(x_i))} = a^{'}(x_i) \\frac{a(x_i) - p_i}{a(x_i)(1 - a(x_i))} = 0\n",
    "\\end{multline*}\n",
    "\n",
    "Производная среднего равнa $0$ при $a = p_i = p(y_i = 1 |x_i )$. \n",
    "\n",
    "***Конец решения***"
   ]
  },
  {
   "cell_type": "markdown",
   "metadata": {},
   "source": [
    "Задача 5.  Смысл регуляризации.\n",
    "\n",
    "Нужно ли в L1/L2 регуляризации использовать свободный член $w_0$ (который не умножается ни на какой признак)?\n",
    "\n",
    "Подсказка: подумайте, для чего мы вводим $w_0$"
   ]
  },
  {
   "cell_type": "markdown",
   "metadata": {},
   "source": [
    "***Ваше решение здесь***\n",
    "\n",
    "Свободный член не нужно использовать, это в определённом смысле \"среднее\". Большие значения $w_0$ не влияют на смену классификации (сильное изменение значения) при подаче данных с небольшим шумом. \n",
    "\n",
    "***Конец решения***"
   ]
  },
  {
   "cell_type": "markdown",
   "metadata": {},
   "source": [
    "#  Реализация линейной модели (4 балла)"
   ]
  },
  {
   "cell_type": "markdown",
   "metadata": {},
   "source": [
    "## Зачем нужны батчи?\n"
   ]
  },
  {
   "cell_type": "markdown",
   "metadata": {},
   "source": [
    "Как Вы могли заметить из теоретического введения, что в случае SGD, что в случа mini-batch GD,  на каждой итерации обновление весов  происходит только по небольшой части данных (1 пример в случае SGD, batch примеров в случае mini-batch). То есть для каждой итерации нам *** не нужна вся выборка***. Мы можем просто итерироваться по выборке, беря батч нужного размера (далее 1 объект тоже будем называть батчом).\n",
    "\n",
    "Легко заметить, что в этом случае нам не нужно загружать все данные в оперативную память, достаточно просто считать батч с диска, обновить веса, считать диска другой батч и так далее. В целях упрощения домашней работы, прямо с диска  мы считывать не будем, будем работать с обычными numpy array. \n",
    "\n",
    "\n",
    "\n"
   ]
  },
  {
   "cell_type": "markdown",
   "metadata": {},
   "source": [
    "## Немножко про генераторы в Python\n",
    "\n"
   ]
  },
  {
   "cell_type": "markdown",
   "metadata": {},
   "source": [
    "Идея считывания данных кусками удачно ложится на так называемые ***генераторы*** из языка Python. В данной работе Вам предлагается не только разобраться с логистической регрессией, но  и познакомиться с таким важным элементом языка.  При желании Вы можете убрать весь код, связанный с генераторами, и реализовать логистическую регрессию и без них, ***штрафоваться это никак не будет***. Главное, чтобы сама модель была реализована правильно, и все пункты были выполнены. \n",
    "\n",
    "Подробнее можно почитать вот тут https://anandology.com/python-practice-book/iterators.html\n"
   ]
  },
  {
   "cell_type": "markdown",
   "metadata": {},
   "source": [
    "К генератору стоит относиться просто как к функции, которая порождает не один объект, а целую последовательность объектов. Новое значение из последовательности генерируется с помощью ключевого слова ***yield***. Ниже Вы можете насладиться  генератором чисел Фибоначчи."
   ]
  },
  {
   "cell_type": "code",
   "execution_count": 2,
   "metadata": {},
   "outputs": [],
   "source": [
    "def fib(max_iter=5):\n",
    "    a, b = 0, 1\n",
    "    iter_num = 0\n",
    "    while 1:\n",
    "        yield a\n",
    "        a, b = b, a + b\n",
    "        iter_num += 1\n",
    "        if iter_num == max_iter:\n",
    "            break"
   ]
  },
  {
   "cell_type": "markdown",
   "metadata": {},
   "source": [
    "Вот так можно сгенерировать последовательность Фибоначчи. \n",
    "\n",
    "Заметьте, что к генераторам можно применять некоторые стандартные функции из Python, например enumerate."
   ]
  },
  {
   "cell_type": "code",
   "execution_count": 3,
   "metadata": {},
   "outputs": [
    {
     "name": "stdout",
     "output_type": "stream",
     "text": [
      "Fib num: 0 fib values: 0\n",
      "Fib num: 1 fib values: 1\n",
      "Fib num: 2 fib values: 1\n",
      "Fib num: 3 fib values: 2\n",
      "Fib num: 4 fib values: 3\n"
     ]
    }
   ],
   "source": [
    "new_generator = fib()\n",
    "for j, fib_val in enumerate(new_generator):\n",
    "    print (\"Fib num: \" + str(j) + \" fib values: \" + str(fib_val))"
   ]
  },
  {
   "cell_type": "markdown",
   "metadata": {},
   "source": [
    "Пересоздавая объект, можно сколько угодно раз генерировать заново последовательность. "
   ]
  },
  {
   "cell_type": "code",
   "execution_count": 4,
   "metadata": {},
   "outputs": [
    {
     "name": "stdout",
     "output_type": "stream",
     "text": [
      "Fib num: 0 fib values: 0\n",
      "Fib num: 1 fib values: 1\n",
      "Fib num: 0 fib values: 0\n",
      "Fib num: 1 fib values: 1\n",
      "Fib num: 0 fib values: 0\n",
      "Fib num: 1 fib values: 1\n"
     ]
    }
   ],
   "source": [
    "for i in range(0, 3):\n",
    "    new_generator = fib(2)\n",
    "    for j, fib_val in enumerate(new_generator):\n",
    "        print (\"Fib num: \" + str(j) + \" fib values: \" + str(fib_val))"
   ]
  },
  {
   "cell_type": "markdown",
   "metadata": {},
   "source": [
    "А вот так уже нельзя."
   ]
  },
  {
   "cell_type": "code",
   "execution_count": 5,
   "metadata": {},
   "outputs": [
    {
     "name": "stdout",
     "output_type": "stream",
     "text": [
      "Fib num: 0 fib values: 0\n",
      "Fib num: 1 fib values: 1\n"
     ]
    }
   ],
   "source": [
    "new_generator = fib(2)\n",
    "for i in range(0, 3):\n",
    "    for j, fib_val in enumerate(new_generator):\n",
    "        print (\"Fib num: \" + str(j) + \" fib values: \" + str(fib_val))"
   ]
  },
  {
   "cell_type": "markdown",
   "metadata": {},
   "source": [
    "Концепция крайне удобная для обучения  моделей $-$ у Вас есть некий источник данных, который Вам выдает их кусками, и Вам совершенно все равно откуда он их берет. Под ним может скрывать как массив в оперативной памяти, как файл на жестком диске, так и SQL база данных. Вы сами данные никуда не сохраняете, оперативную память экономите."
   ]
  },
  {
   "cell_type": "markdown",
   "metadata": {},
   "source": [
    "Если Вам понравилась идея с генераторами, то Вы можете реализовать свой, используя прототип batch_generator. В нем Вам нужно выдавать батчи признаков и ответов для каждой новой итерации спуска. Если не понравилась идея, то можете реализовывать SGD или mini-batch GD без генераторов."
   ]
  },
  {
   "cell_type": "code",
   "execution_count": 6,
   "metadata": {},
   "outputs": [],
   "source": [
    "import random\n",
    "\n",
    "def batch_generator(X, y, shuffle=True, batch_size=1):\n",
    "    \"\"\"\n",
    "    Гератор новых батчей для обучения\n",
    "    X          - матрица объекты-признаки\n",
    "    y_batch    - вектор ответов\n",
    "    shuffle    - нужно ли случайно перемешивать выборку\n",
    "    batch_size - размер батча ( 1 это SGD, > 1 mini-batch GD)\n",
    "    Генерирует подвыборку для итерации спуска (X_batch, y_batch)\n",
    "    \"\"\"\n",
    "    \n",
    "    ind = list(range(X.shape[0]))\n",
    "\n",
    "    if shuffle:\n",
    "        random.shuffle(ind)\n",
    "\n",
    "    X_batch = \"\"\n",
    "    y_batch = \"\"\n",
    "    for i in range(0, len(ind)-batch_size+1, batch_size):\n",
    "        X_batch = X[ind[i:i+batch_size]]\n",
    "        y_batch = y[ind[i:i+batch_size]]\n",
    "        yield (X_batch, y_batch)\n",
    "\n",
    "# Теперь можно сделать генератор по данным ()\n",
    "#  my_batch_generator = batch_generator(X, y, shuffle=True, batch_size=1):"
   ]
  },
  {
   "cell_type": "code",
   "execution_count": 7,
   "metadata": {},
   "outputs": [],
   "source": [
    "#%%pycodestyle\n",
    "from sklearn.base import BaseEstimator, ClassifierMixin\n",
    "\n",
    "\n",
    "def sigmoid(x):\n",
    "    \"\"\"\n",
    "    Вычисляем значение сигмоида.\n",
    "    X - выход линейной модели\n",
    "    \"\"\"\n",
    "    sigm_value_x = 1/(1 + np.exp(-x))\n",
    "    return sigm_value_x\n",
    "\n",
    "\n",
    "class MySGDClassifier(BaseEstimator, ClassifierMixin):\n",
    "    \n",
    "    def __init__(self, batch_generator, C=1, alpha=0.01, max_epoch=10, model_type='lin_reg', \n",
    "                 batch_size=1, threshold=None):\n",
    "        \"\"\"\n",
    "        batch_generator -- функция генератор, которой будем создавать батчи\n",
    "        C - коэф. регуляризации\n",
    "        alpha - скорость спуска\n",
    "        max_epoch - максимальное количество эпох\n",
    "        model_type - тим модели, lin_reg или log_reg\n",
    "        \"\"\"\n",
    "        self.C = C\n",
    "        self.alpha = alpha\n",
    "        self.max_epoch = max_epoch\n",
    "        self.batch_generator = batch_generator\n",
    "        self.errors_log = {'iter' : [], 'loss' : []}  \n",
    "        self.model_type = model_type\n",
    "        self.batch_size = batch_size\n",
    "        self.threshold = threshold\n",
    "        \n",
    "    def calc_loss(self, X_batch, y_batch):\n",
    "        \"\"\"\n",
    "        Считаем функцию потерь по батчу \n",
    "        X_batch - матрица объекты-признаки по батчу\n",
    "        y_batch - вектор ответов по батчу\n",
    "        Не забудте тип модели (линейная или логистическая регрессия)!\n",
    "        \"\"\"\n",
    "        weights = self.weights\n",
    "        \n",
    "        #регуляризация\n",
    "        C = self.C\n",
    "        reg = np.square(weights)[1:].sum()/C\n",
    "        \n",
    "        \n",
    "        if self.model_type == 'lin_reg':\n",
    "            loss = (np.square(y_batch - np.dot(X_batch, weights))).sum()\n",
    "            loss = loss / X_batch.shape[0] + reg\n",
    "            \n",
    "\n",
    "        elif self.model_type == 'log_reg':\n",
    "            a = sigmoid(np.dot(X_batch, weights))\n",
    "            num_obj = X_batch.shape[0]\n",
    "            loss = (-1/num_obj) * (y_batch * np.log(a) +\n",
    "                    (np.ones(num_obj)[:, np.newaxis] - y_batch) * np.log(np.ones(num_obj)[:, np.newaxis] - a)).sum() + reg\n",
    "        else:\n",
    "            print(\"Use 'lin_reg' or 'log_reg' model\")\n",
    "            return\n",
    "        return loss\n",
    "\n",
    "    \n",
    "    def calc_loss_grad(self, X_batch, y_batch):\n",
    "        \"\"\"\n",
    "        Считаем  градиент функции потерь по батчу (то что Вы вывели в задании 1)\n",
    "        X_batch - матрица объекты-признаки по батчу\n",
    "        y_batch - вектор ответов по батчу\n",
    "        Не забудте тип модели (линейная или логистическая регрессия)!\n",
    "        \"\"\"\n",
    "        weights = self.weights\n",
    "        \n",
    "        #регуляризация\n",
    "        C = self.C\n",
    "        reg = (2 / C) * weights[1:]\n",
    "        reg = np.insert(reg,0,0)[:, np.newaxis]\n",
    "        num = X_batch.shape[0]\n",
    "        #print(reg.shape,'vect')\n",
    "        \n",
    "        if self.model_type == 'lin_reg':\n",
    "            loss_grad = (2/num) * np.dot(np.transpose(X_batch),\n",
    "                                         (np.dot(X_batch, weights)) - y_batch) + reg\n",
    "        elif self.model_type == 'log_reg':\n",
    "            a = sigmoid(np.dot(X_batch, weights))\n",
    "            loss_grad = (1/num) * np.dot(np.transpose(X_batch), (a - y_batch)) + reg\n",
    "        else:\n",
    "            print(\"Use 'lin_reg' or 'log_reg' model\")\n",
    "            return\n",
    "        #print(loss_grad.shape)\n",
    "        return loss_grad\n",
    "    \n",
    "    def update_weights(self, new_grad):\n",
    "        \"\"\"\n",
    "        Обновляем вектор весов\n",
    "        new_grad - градиент по батчу\n",
    "        \"\"\"\n",
    "        w = self.weights\n",
    "        self.weights = w - self.alpha * new_grad\n",
    "    \n",
    "    def fit(self, X, y):\n",
    "        '''\n",
    "        Обучение модели\n",
    "        X - матрица объекты-признаки\n",
    "        y - вектор ответов\n",
    "        '''\n",
    "        if len(y.shape) != 2:\n",
    "            y = y[:, np.newaxis]\n",
    "            \n",
    "        if self.threshold == None:\n",
    "            self.threshold=sum(y)/y.shape[0]            \n",
    "\n",
    "        # добавляем единичный признак, чтобы было удобно считать w_0\n",
    "        X = np.hstack((np.ones(X.shape[0])[:, np.newaxis], X))\n",
    "        \n",
    "        # Нужно инициализровать случайно веса\n",
    "        self.weights = np.random.rand(X.shape[1], 1)\n",
    "        steps = 0\n",
    "        \n",
    "        for n in range(0, self.max_epoch):\n",
    "            new_epoch_generator = self.batch_generator(X, y, batch_size=self.batch_size)\n",
    "            for batch_num, new_batch in enumerate(new_epoch_generator):\n",
    "                X_batch = new_batch[0]\n",
    "                y_batch = new_batch[1]\n",
    "                batch_grad = self.calc_loss_grad(X_batch, y_batch)\n",
    "                self.update_weights(batch_grad)\n",
    "                # Подумайте в каком месте стоит посчитать ошибку для отладки модели\n",
    "                # До градиентного шага или после\n",
    "                batch_loss = self.calc_loss(X_batch, y_batch)\n",
    "                self.errors_log['iter'].append(batch_num)\n",
    "                self.errors_log['loss'].append(batch_loss)\n",
    "                \n",
    "                '''\n",
    "                print(batch_loss)\n",
    "                if batch_num % N == 0 and batch_num != 0:\n",
    "                    #print(self.weights)\n",
    "                    #print(batch_num,\n",
    "                    sum(self.errors_log['loss'][total_num - N:total_num])/N)\n",
    "                    #self.alpha = self.alpha/total_num\n",
    "\n",
    "                if total_num % 10 == 0:\n",
    "                    alpha_k += 1\n",
    "                    self.alpha = self.alpha/alpha_k\n",
    "                    print(self.alpha)\n",
    "                '''\n",
    "                steps += 1\n",
    "\n",
    "        #return self  \n",
    "                \n",
    "        return self\n",
    "        \n",
    "    def predict(self, X):\n",
    "        '''\n",
    "        Предсказание класса\n",
    "        X - матрица объекты-признаки\n",
    "        Не забудте тип модели (линейная или логистическая регрессия)!\n",
    "        '''\n",
    "        X = np.hstack((np.ones(X.shape[0])[:, np.newaxis], X))\n",
    "        \n",
    "        if self.model_type == 'lin_reg':\n",
    "            y_pr = np.dot(X, self.weights)\n",
    "            y_hat = [y_pr > self.threshold]\n",
    "            y_hat = y_hat[0].astype(int)\n",
    "\n",
    "        elif self.model_type == 'log_reg':\n",
    "            a = sigmoid(np.dot(X, self.weights))\n",
    "            y_hat = [a > self.threshold]\n",
    "            y_hat = y_hat[0].astype(int)\n",
    "\n",
    "        else:\n",
    "            print(\"Use 'lin_reg' or 'log_reg' model\")\n",
    "            return\n",
    "\n",
    "        return y_hat"
   ]
  },
  {
   "cell_type": "markdown",
   "metadata": {},
   "source": [
    "Запустите обе регрессии на синтетических данных. \n",
    "\n",
    "\n",
    "Выведите полученные веса и нарисуйте разделяющую границу между классами (используйте только первых два веса для первых двух признаков X[:,0], X[:,1] для отображения в 2d пространство ).  "
   ]
  },
  {
   "cell_type": "code",
   "execution_count": 8,
   "metadata": {},
   "outputs": [],
   "source": [
    "def plot_decision_boundary(clf, c='green'):\n",
    "    #print(clf.weights)\n",
    "    w = np.ravel(clf.weights)\n",
    "    x = np.arange(0, 8, 0.1)\n",
    "    y = (clf.threshold - w[0] - w[1] * x) / w[2]\n",
    "\n",
    "    plt.plot(x, y, color=c)"
   ]
  },
  {
   "cell_type": "code",
   "execution_count": 10,
   "metadata": {},
   "outputs": [
    {
     "data": {
      "text/plain": [
       "<matplotlib.collections.PathCollection at 0x25ce4b8f828>"
      ]
     },
     "execution_count": 10,
     "metadata": {},
     "output_type": "execute_result"
    },
    {
     "data": {
      "image/png": "[encoded data removed]",
      "text/plain": [
       "<Figure size 864x360 with 1 Axes>"
      ]
     },
     "metadata": {},
     "output_type": "display_data"
    }
   ],
   "source": [
    "np.random.seed(0)\n",
    "\n",
    "C1 = np.array([[0., -0.8], [1.5, 0.8]])\n",
    "C2 = np.array([[1., -0.7], [2., 0.7]])\n",
    "gauss1 = np.dot(np.random.randn(200, 2) + np.array([5, 3]), C1)\n",
    "gauss2 = np.dot(np.random.randn(200, 2) + np.array([1.5, 0]), C2)\n",
    "\n",
    "X = np.vstack([gauss1, gauss2])\n",
    "y = np.r_[np.ones(200), np.zeros(200)]\n",
    "\n",
    "clf_lin = MySGDClassifier(batch_generator, model_type='lin_reg', max_epoch=100, batch_size=50)\n",
    "clf_lin.fit(X, y)\n",
    "\n",
    "clf_log = MySGDClassifier(batch_generator, model_type='log_reg', max_epoch=100, batch_size=50)\n",
    "clf_log.fit(X, y)\n",
    "\n",
    "plot_decision_boundary(clf_lin, c='red')\n",
    "plot_decision_boundary(clf_log, c='blue')\n",
    "\n",
    "plt.scatter(X[:,0], X[:,1], c=y)"
   ]
  },
  {
   "cell_type": "markdown",
   "metadata": {},
   "source": [
    "Далее будем анализировать Ваш алгоритм. \n",
    "Для этих заданий используйте датасет ниже."
   ]
  },
  {
   "cell_type": "code",
   "execution_count": 11,
   "metadata": {},
   "outputs": [],
   "source": [
    "from sklearn.datasets import make_classification"
   ]
  },
  {
   "cell_type": "code",
   "execution_count": 12,
   "metadata": {},
   "outputs": [],
   "source": [
    "X, y = make_classification(n_samples=100000, n_features=10, \n",
    "                           n_informative=4, n_redundant=0, \n",
    "                           random_state=123, class_sep=1.0,\n",
    "                           n_clusters_per_class=1)"
   ]
  },
  {
   "cell_type": "markdown",
   "metadata": {},
   "source": [
    "Покажите сходимости обеих регрессией на этом датасете: изобразите график  функции потерь, усредненной по $N$ шагам градиентого спуска, для разных `alpha` (размеров шага). Разные `alpha` расположите на одном графике. \n",
    "\n",
    "$N$ можно брать 10, 50, 100 и т.д. "
   ]
  },
  {
   "cell_type": "code",
   "execution_count": 13,
   "metadata": {},
   "outputs": [
    {
     "data": {
      "text/plain": [
       "100000"
      ]
     },
     "execution_count": 13,
     "metadata": {},
     "output_type": "execute_result"
    }
   ],
   "source": [
    "X.shape[0]"
   ]
  },
  {
   "cell_type": "markdown",
   "metadata": {},
   "source": [
    "Сначала выведем хоть какой-нибудь график c усреднёнными потерями. Шаг буду строить по 1000 наблюдений, чтобы точек было меньше, но уж хотя бы 10 раз по массиву пробежаться разумно. Итого 10*(100000/1000)=1000 элементов в errors_log."
   ]
  },
  {
   "cell_type": "code",
   "execution_count": 14,
   "metadata": {},
   "outputs": [],
   "source": [
    "N=10"
   ]
  },
  {
   "cell_type": "code",
   "execution_count": 15,
   "metadata": {},
   "outputs": [
    {
     "data": {
      "text/plain": [
       "[<matplotlib.lines.Line2D at 0x25ce6084e10>]"
      ]
     },
     "execution_count": 15,
     "metadata": {},
     "output_type": "execute_result"
    },
    {
     "data": {
      "image/png": "[encoded data removed]",
      "text/plain": [
       "<Figure size 864x360 with 1 Axes>"
      ]
     },
     "metadata": {},
     "output_type": "display_data"
    }
   ],
   "source": [
    "clf_lin = MySGDClassifier(batch_generator, model_type='lin_reg', max_epoch=10, batch_size=1000) \n",
    "clf_lin.fit(X, y)\n",
    "\n",
    "mean_err = [np.mean(clf_lin.errors_log['loss'][i-N:i]) for i in range(N, len(clf_lin.errors_log['loss'])+1, N)]\n",
    "plt.plot(mean_err)\n",
    "#clf_lin.weights"
   ]
  },
  {
   "cell_type": "code",
   "execution_count": 16,
   "metadata": {},
   "outputs": [
    {
     "data": {
      "text/plain": [
       "[<matplotlib.lines.Line2D at 0x25ce5fa7ac8>]"
      ]
     },
     "execution_count": 16,
     "metadata": {},
     "output_type": "execute_result"
    },
    {
     "data": {
      "image/png": "[encoded data removed]",
      "text/plain": [
       "<Figure size 864x360 with 1 Axes>"
      ]
     },
     "metadata": {},
     "output_type": "display_data"
    }
   ],
   "source": [
    "clf_log = MySGDClassifier(batch_generator, model_type='log_reg', max_epoch=10, batch_size=1000) \n",
    "clf_log.fit(X, y)\n",
    "\n",
    "mean_err = [np.mean(clf_log.errors_log['loss'][i-N:i]) for i in range(N, len(clf_log.errors_log['loss'])+1, N)]\n",
    "plt.plot(mean_err)\n",
    "#clf_lin.weights"
   ]
  },
  {
   "cell_type": "markdown",
   "metadata": {},
   "source": [
    "Теперь с подбором alpha."
   ]
  },
  {
   "cell_type": "code",
   "execution_count": 17,
   "metadata": {},
   "outputs": [],
   "source": [
    "alph=[0.1, 0.01, 0.001]\n",
    "N=50"
   ]
  },
  {
   "cell_type": "code",
   "execution_count": 18,
   "metadata": {},
   "outputs": [
    {
     "data": {
      "text/plain": [
       "Text(0, 0.5, 'loss-function')"
      ]
     },
     "execution_count": 18,
     "metadata": {},
     "output_type": "execute_result"
    },
    {
     "data": {
      "image/png": "[encoded data removed]",
      "text/plain": [
       "<Figure size 864x360 with 1 Axes>"
      ]
     },
     "metadata": {},
     "output_type": "display_data"
    }
   ],
   "source": [
    "for j in alph:\n",
    "    clf_lin = MySGDClassifier(batch_generator, model_type='lin_reg', max_epoch=5, batch_size=1000, alpha=j)\n",
    "    clf_lin.fit(X, y)\n",
    "    mean_err = [np.mean(clf_lin.errors_log['loss'][i-N:i]) for i in range(N, len(clf_lin.errors_log['loss'])+1, N)]\n",
    "    plt.plot(mean_err, label=j)\n",
    "plt.legend()\n",
    "plt.ylabel('loss-function')\n",
    "\n",
    "#clf_lin.weights"
   ]
  },
  {
   "cell_type": "code",
   "execution_count": 19,
   "metadata": {},
   "outputs": [
    {
     "data": {
      "text/plain": [
       "Text(0, 0.5, 'loss-function')"
      ]
     },
     "execution_count": 19,
     "metadata": {},
     "output_type": "execute_result"
    },
    {
     "data": {
      "image/png": "[encoded data removed]",
      "text/plain": [
       "<Figure size 864x360 with 1 Axes>"
      ]
     },
     "metadata": {},
     "output_type": "display_data"
    }
   ],
   "source": [
    "for j in alph:\n",
    "    clf_log = MySGDClassifier(batch_generator, model_type='log_reg', max_epoch=5, batch_size=1000, alpha=j)\n",
    "    clf_log.fit(X, y)\n",
    "    mean_err = [np.mean(clf_log.errors_log['loss'][i-N:i]) for i in range(N, len(clf_log.errors_log['loss'])+1, N)]\n",
    "    plt.plot(mean_err, label=j)\n",
    "plt.legend()\n",
    "plt.ylabel('loss-function')\n",
    "\n",
    "#clf_lin.weights"
   ]
  },
  {
   "cell_type": "markdown",
   "metadata": {},
   "source": [
    "Что Вы можете сказать про сходимость метода при различных `alpha`? Какое значение стоит выбирать для лучшей сходимости?"
   ]
  },
  {
   "cell_type": "markdown",
   "metadata": {},
   "source": [
    "При маленьких альфах мы медленно, но уверенно идём к правильным значениям, а при больших мы можем перескакивать минимум. Кроме того - есть риск отскачить от него далеко и сделать процесс расходящимся. Пожалуй, значение 0.01 меня устраивает."
   ]
  },
  {
   "cell_type": "markdown",
   "metadata": {},
   "source": [
    "Изобразите график среднего значения весов для обеих регрессий в зависимости от коеф. регуляризации С из `np.logspace(3, -3, 10)` "
   ]
  },
  {
   "cell_type": "code",
   "execution_count": 20,
   "metadata": {},
   "outputs": [
    {
     "data": {
      "text/plain": [
       "Text(0, 0.5, 'loss-function')"
      ]
     },
     "execution_count": 20,
     "metadata": {},
     "output_type": "execute_result"
    },
    {
     "data": {
      "image/png": "[encoded data removed]",
      "text/plain": [
       "<Figure size 864x360 with 1 Axes>"
      ]
     },
     "metadata": {},
     "output_type": "display_data"
    }
   ],
   "source": [
    "param=np.logspace(3, -3, 10)\n",
    "\n",
    "for j in param[0:8]:\n",
    "    clf_lin = MySGDClassifier(batch_generator, model_type='lin_reg', max_epoch=5, batch_size=1000, alpha=0.01, C=j)\n",
    "    clf_lin.fit(X, y)\n",
    "    mean_err = [np.mean(clf_lin.errors_log['loss'][i-N:i]) for i in range(N, len(clf_lin.errors_log['loss'])+1, N)]\n",
    "    plt.plot(mean_err, label=j)\n",
    "plt.legend()\n",
    "plt.ylabel('loss-function')"
   ]
  },
  {
   "cell_type": "code",
   "execution_count": 21,
   "metadata": {},
   "outputs": [
    {
     "name": "stderr",
     "output_type": "stream",
     "text": [
      "C:\\ProgramData\\Anaconda3\\lib\\site-packages\\numpy\\core\\_methods.py:38: RuntimeWarning: overflow encountered in reduce\n",
      "  return umr_sum(a, axis, dtype, out, keepdims, initial, where)\n",
      "C:\\ProgramData\\Anaconda3\\lib\\site-packages\\ipykernel_launcher.py:45: RuntimeWarning: overflow encountered in double_scalars\n",
      "C:\\ProgramData\\Anaconda3\\lib\\site-packages\\ipykernel_launcher.py:49: RuntimeWarning: overflow encountered in square\n",
      "C:\\ProgramData\\Anaconda3\\lib\\site-packages\\ipykernel_launcher.py:45: RuntimeWarning: overflow encountered in square\n",
      "C:\\ProgramData\\Anaconda3\\lib\\site-packages\\ipykernel_launcher.py:75: RuntimeWarning: overflow encountered in multiply\n"
     ]
    },
    {
     "data": {
      "text/plain": [
       "Text(0, 0.5, 'loss-function')"
      ]
     },
     "execution_count": 21,
     "metadata": {},
     "output_type": "execute_result"
    },
    {
     "data": {
      "image/png": "[encoded data removed]",
      "text/plain": [
       "<Figure size 864x360 with 1 Axes>"
      ]
     },
     "metadata": {},
     "output_type": "display_data"
    }
   ],
   "source": [
    "for j in param[8:10]:\n",
    "    clf_lin = MySGDClassifier(batch_generator, model_type='lin_reg', max_epoch=5, batch_size=1000, alpha=0.01, C=j)\n",
    "    clf_lin.fit(X, y)\n",
    "    mean_err = [np.mean(clf_lin.errors_log['loss'][i-N:i]) for i in range(N, len(clf_lin.errors_log['loss'])+1, N)]\n",
    "    plt.plot(mean_err, label=j)\n",
    "plt.legend()\n",
    "plt.ylabel('loss-function')"
   ]
  },
  {
   "cell_type": "code",
   "execution_count": 22,
   "metadata": {},
   "outputs": [
    {
     "data": {
      "text/plain": [
       "Text(0, 0.5, 'loss-function')"
      ]
     },
     "execution_count": 22,
     "metadata": {},
     "output_type": "execute_result"
    },
    {
     "data": {
      "image/png": "[encoded data removed]",
      "text/plain": [
       "<Figure size 864x360 with 1 Axes>"
      ]
     },
     "metadata": {},
     "output_type": "display_data"
    }
   ],
   "source": [
    "param=np.logspace(3, -3, 10)\n",
    "\n",
    "for j in param[0:8]:\n",
    "    clf_log = MySGDClassifier(batch_generator, model_type='log_reg', max_epoch=5, batch_size=1000, alpha=0.01, C=j)\n",
    "    clf_log.fit(X, y)\n",
    "    mean_err = [np.mean(clf_log.errors_log['loss'][i-N:i]) for i in range(N, len(clf_log.errors_log['loss'])+1, N)]\n",
    "    plt.plot(mean_err, label=j)\n",
    "plt.legend()\n",
    "plt.ylabel('loss-function')"
   ]
  },
  {
   "cell_type": "code",
   "execution_count": 23,
   "metadata": {},
   "outputs": [
    {
     "name": "stderr",
     "output_type": "stream",
     "text": [
      "C:\\ProgramData\\Anaconda3\\lib\\site-packages\\ipykernel_launcher.py:57: RuntimeWarning: divide by zero encountered in log\n",
      "C:\\ProgramData\\Anaconda3\\lib\\site-packages\\ipykernel_launcher.py:57: RuntimeWarning: invalid value encountered in multiply\n",
      "C:\\ProgramData\\Anaconda3\\lib\\site-packages\\ipykernel_launcher.py:10: RuntimeWarning: overflow encountered in exp\n",
      "  # Remove the CWD from sys.path while we load stuff.\n",
      "C:\\ProgramData\\Anaconda3\\lib\\site-packages\\ipykernel_launcher.py:56: RuntimeWarning: divide by zero encountered in log\n",
      "C:\\ProgramData\\Anaconda3\\lib\\site-packages\\ipykernel_launcher.py:56: RuntimeWarning: invalid value encountered in multiply\n",
      "C:\\ProgramData\\Anaconda3\\lib\\site-packages\\ipykernel_launcher.py:45: RuntimeWarning: overflow encountered in double_scalars\n",
      "C:\\ProgramData\\Anaconda3\\lib\\site-packages\\ipykernel_launcher.py:45: RuntimeWarning: overflow encountered in square\n",
      "C:\\ProgramData\\Anaconda3\\lib\\site-packages\\ipykernel_launcher.py:75: RuntimeWarning: overflow encountered in multiply\n"
     ]
    },
    {
     "data": {
      "text/plain": [
       "Text(0, 0.5, 'loss-function')"
      ]
     },
     "execution_count": 23,
     "metadata": {},
     "output_type": "execute_result"
    },
    {
     "data": {
      "image/png": "[encoded data removed]",
      "text/plain": [
       "<Figure size 864x360 with 1 Axes>"
      ]
     },
     "metadata": {},
     "output_type": "display_data"
    }
   ],
   "source": [
    "for j in param[8:10]:\n",
    "    clf_log = MySGDClassifier(batch_generator, model_type='log_reg', max_epoch=5, batch_size=1000, alpha=0.01, C=j)\n",
    "    clf_log.fit(X, y)\n",
    "    mean_err = [np.mean(clf_log.errors_log['loss'][i-N:i]) for i in range(N, len(clf_log.errors_log['loss'])+1, N)]\n",
    "    plt.plot(mean_err, label=j)\n",
    "plt.legend()\n",
    "plt.ylabel('loss-function')"
   ]
  },
  {
   "cell_type": "markdown",
   "metadata": {},
   "source": [
    "Довольны ли Вы, насколько сильно уменьшились Ваши веса? "
   ]
  },
  {
   "cell_type": "markdown",
   "metadata": {},
   "source": [
    "При разумном подборе параметра ошибка действительно может стать меньше. \n",
    "Но на сверхмалых значениях алгоритм расходится. Формула обновления весов превращается во что-то подобное:\n",
    "$$\n",
    "w_{new}=w_{old}-\\lambda w_{old} +\\varepsilon,\n",
    "$$\n",
    "где $\\lambda>2$. В итоге: неограниченный рост веса и соответственно ошибки."
   ]
  },
  {
   "cell_type": "markdown",
   "metadata": {},
   "source": [
    "# Боевое применение (4  балла)\n",
    "\n",
    "**Защита данной части возможна только при преодолении в проекте бейзлайна Handmade baseline.**"
   ]
  },
  {
   "cell_type": "markdown",
   "metadata": {},
   "source": [
    "Давайте применим модель на итоговом проекте! Датасет сделаем точно таким же образом, как было показано в project_overview.ipynb\n",
    "\n",
    "Применим обе регрессии, подберем для них параметры и сравним качество. Может быть Вы еще одновременно с решением домашней работы подрастете на лидерборде!"
   ]
  },
  {
   "cell_type": "code",
   "execution_count": 304,
   "metadata": {},
   "outputs": [
    {
     "data": {
      "text/plain": [
       "''"
      ]
     },
     "execution_count": 304,
     "metadata": {},
     "output_type": "execute_result"
    }
   ],
   "source": [
    "import codecs\n",
    "fileObj = codecs.open( \"docs_titles.tsv\", \"r\", \"utf_8_sig\" )\n",
    "text = fileObj.read()\n",
    "fileObj.close()\n",
    "f.read()"
   ]
  },
  {
   "cell_type": "code",
   "execution_count": 306,
   "metadata": {},
   "outputs": [
    {
     "data": {
      "text/plain": [
       "''"
      ]
     },
     "execution_count": 306,
     "metadata": {},
     "output_type": "execute_result"
    }
   ],
   "source": [
    "f.read(100)"
   ]
  },
  {
   "cell_type": "code",
   "execution_count": 292,
   "metadata": {},
   "outputs": [
    {
     "ename": "UnicodeDecodeError",
     "evalue": "'charmap' codec can't decode byte 0x98 in position 1043: character maps to <undefined>",
     "output_type": "error",
     "traceback": [
      "\u001b[1;31m---------------------------------------------------------------------------\u001b[0m",
      "\u001b[1;31mUnicodeDecodeError\u001b[0m                        Traceback (most recent call last)",
      "\u001b[1;32m<ipython-input-292-09d61d6c093b>\u001b[0m in \u001b[0;36m<module>\u001b[1;34m\u001b[0m\n\u001b[0;32m      1\u001b[0m \u001b[0mdoc_to_title\u001b[0m \u001b[1;33m=\u001b[0m \u001b[1;33m{\u001b[0m\u001b[1;33m}\u001b[0m\u001b[1;33m\u001b[0m\u001b[1;33m\u001b[0m\u001b[0m\n\u001b[0;32m      2\u001b[0m \u001b[1;32mwith\u001b[0m \u001b[0mopen\u001b[0m\u001b[1;33m(\u001b[0m\u001b[1;34m'.\\docs_titles\\docs_titles.tsv'\u001b[0m\u001b[1;33m)\u001b[0m \u001b[1;32mas\u001b[0m \u001b[0mf\u001b[0m\u001b[1;33m:\u001b[0m\u001b[1;33m\u001b[0m\u001b[1;33m\u001b[0m\u001b[0m\n\u001b[1;32m----> 3\u001b[1;33m     \u001b[1;32mfor\u001b[0m \u001b[0mnum_line\u001b[0m\u001b[1;33m,\u001b[0m \u001b[0mline\u001b[0m \u001b[1;32min\u001b[0m \u001b[0menumerate\u001b[0m\u001b[1;33m(\u001b[0m\u001b[0mf\u001b[0m\u001b[1;33m)\u001b[0m\u001b[1;33m:\u001b[0m\u001b[1;33m\u001b[0m\u001b[1;33m\u001b[0m\u001b[0m\n\u001b[0m\u001b[0;32m      4\u001b[0m         \u001b[1;32mif\u001b[0m \u001b[0mnum_line\u001b[0m \u001b[1;33m==\u001b[0m \u001b[1;36m0\u001b[0m\u001b[1;33m:\u001b[0m\u001b[1;33m\u001b[0m\u001b[1;33m\u001b[0m\u001b[0m\n\u001b[0;32m      5\u001b[0m             \u001b[1;32mcontinue\u001b[0m\u001b[1;33m\u001b[0m\u001b[1;33m\u001b[0m\u001b[0m\n",
      "\u001b[1;32mC:\\ProgramData\\Anaconda3\\lib\\encodings\\cp1251.py\u001b[0m in \u001b[0;36mdecode\u001b[1;34m(self, input, final)\u001b[0m\n\u001b[0;32m     21\u001b[0m \u001b[1;32mclass\u001b[0m \u001b[0mIncrementalDecoder\u001b[0m\u001b[1;33m(\u001b[0m\u001b[0mcodecs\u001b[0m\u001b[1;33m.\u001b[0m\u001b[0mIncrementalDecoder\u001b[0m\u001b[1;33m)\u001b[0m\u001b[1;33m:\u001b[0m\u001b[1;33m\u001b[0m\u001b[1;33m\u001b[0m\u001b[0m\n\u001b[0;32m     22\u001b[0m     \u001b[1;32mdef\u001b[0m \u001b[0mdecode\u001b[0m\u001b[1;33m(\u001b[0m\u001b[0mself\u001b[0m\u001b[1;33m,\u001b[0m \u001b[0minput\u001b[0m\u001b[1;33m,\u001b[0m \u001b[0mfinal\u001b[0m\u001b[1;33m=\u001b[0m\u001b[1;32mFalse\u001b[0m\u001b[1;33m)\u001b[0m\u001b[1;33m:\u001b[0m\u001b[1;33m\u001b[0m\u001b[1;33m\u001b[0m\u001b[0m\n\u001b[1;32m---> 23\u001b[1;33m         \u001b[1;32mreturn\u001b[0m \u001b[0mcodecs\u001b[0m\u001b[1;33m.\u001b[0m\u001b[0mcharmap_decode\u001b[0m\u001b[1;33m(\u001b[0m\u001b[0minput\u001b[0m\u001b[1;33m,\u001b[0m\u001b[0mself\u001b[0m\u001b[1;33m.\u001b[0m\u001b[0merrors\u001b[0m\u001b[1;33m,\u001b[0m\u001b[0mdecoding_table\u001b[0m\u001b[1;33m)\u001b[0m\u001b[1;33m[\u001b[0m\u001b[1;36m0\u001b[0m\u001b[1;33m]\u001b[0m\u001b[1;33m\u001b[0m\u001b[1;33m\u001b[0m\u001b[0m\n\u001b[0m\u001b[0;32m     24\u001b[0m \u001b[1;33m\u001b[0m\u001b[0m\n\u001b[0;32m     25\u001b[0m \u001b[1;32mclass\u001b[0m \u001b[0mStreamWriter\u001b[0m\u001b[1;33m(\u001b[0m\u001b[0mCodec\u001b[0m\u001b[1;33m,\u001b[0m\u001b[0mcodecs\u001b[0m\u001b[1;33m.\u001b[0m\u001b[0mStreamWriter\u001b[0m\u001b[1;33m)\u001b[0m\u001b[1;33m:\u001b[0m\u001b[1;33m\u001b[0m\u001b[1;33m\u001b[0m\u001b[0m\n",
      "\u001b[1;31mUnicodeDecodeError\u001b[0m: 'charmap' codec can't decode byte 0x98 in position 1043: character maps to <undefined>"
     ]
    }
   ],
   "source": [
    "doc_to_title = {}\n",
    "with open('.\\docs_titles\\docs_titles.tsv') as f:\n",
    "    for num_line, line in enumerate(f):\n",
    "        if num_line == 0:\n",
    "            continue\n",
    "        data = line.strip().split('\\t', 1)\n",
    "        doc_id = int(data[0])\n",
    "        if len(data) == 1:\n",
    "            title = ''\n",
    "        else:\n",
    "            title = data[1]\n",
    "        doc_to_title[doc_id] = title\n",
    "print (len(doc_to_title))\n"
   ]
  },
  {
   "cell_type": "code",
   "execution_count": 5,
   "metadata": {
    "collapsed": true
   },
   "outputs": [],
   "source": [
    "import pandas as pd\n",
    "train_data = pd.read_csv('train_groups.csv')\n",
    "traingroups_titledata = {}\n",
    "for i in range(len(train_data)):\n",
    "    new_doc = train_data.iloc[i]\n",
    "    doc_group = new_doc['group_id']\n",
    "    doc_id = new_doc['doc_id']\n",
    "    target = new_doc['target']\n",
    "    title = doc_to_title[doc_id]\n",
    "    if doc_group not in traingroups_titledata:\n",
    "        traingroups_titledata[doc_group] = []\n",
    "    traingroups_titledata[doc_group].append((doc_id, title, target))"
   ]
  },
  {
   "cell_type": "code",
   "execution_count": 6,
   "metadata": {},
   "outputs": [
    {
     "name": "stdout",
     "output_type": "stream",
     "text": [
      "(11690, 15) (11690,) (11690,)\n"
     ]
    }
   ],
   "source": [
    "import numpy as np\n",
    "y_train = []\n",
    "X_train = []\n",
    "groups_train = []\n",
    "for new_group in traingroups_titledata:\n",
    "    docs = traingroups_titledata[new_group]\n",
    "    for k, (doc_id, title, target_id) in enumerate(docs):\n",
    "        y_train.append(target_id)\n",
    "        groups_train.append(new_group)\n",
    "        all_dist = []\n",
    "        words = set(title.strip().split())\n",
    "        for j in range(0, len(docs)):\n",
    "            if k == j:\n",
    "                continue\n",
    "            doc_id_j, title_j, target_j = docs[j]\n",
    "            words_j = set(title_j.strip().split())\n",
    "            all_dist.append(len(words.intersection(words_j)))\n",
    "        X_train.append(sorted(all_dist, reverse=True)[0:15]    )\n",
    "X_train = np.array(X_train)\n",
    "y_train = np.array(y_train)\n",
    "groups_train = np.array(groups_train)\n",
    "print (X_train.shape, y_train.shape, groups_train.shape)"
   ]
  },
  {
   "cell_type": "markdown",
   "metadata": {},
   "source": [
    "Подберите размер батча для обучения. Линейная модель не должна учиться дольше нескольких минут. \n",
    "\n",
    "Не забывайте использовать скейлер!"
   ]
  },
  {
   "cell_type": "code",
   "execution_count": 10,
   "metadata": {
    "collapsed": true
   },
   "outputs": [],
   "source": [
    "from sklearn.metrics import f1_score\n",
    "from sklearn.linear_model import LinearRegression\n",
    "from sklearn.preprocessing import StandardScaler"
   ]
  },
  {
   "cell_type": "code",
   "execution_count": null,
   "metadata": {
    "collapsed": true
   },
   "outputs": [],
   "source": []
  },
  {
   "cell_type": "code",
   "execution_count": null,
   "metadata": {
    "collapsed": true
   },
   "outputs": [],
   "source": []
  },
  {
   "cell_type": "markdown",
   "metadata": {},
   "source": [
    "Разбейте данные на обучение и валидацию. Подберите параметры C, alpha, max_epoch, model_type на валидации (Вы же помните, как правильно в этой задаче делать валидацию?)"
   ]
  },
  {
   "cell_type": "code",
   "execution_count": null,
   "metadata": {
    "collapsed": true
   },
   "outputs": [],
   "source": []
  },
  {
   "cell_type": "markdown",
   "metadata": {
    "collapsed": true
   },
   "source": [
    "Подберите порог линейной модели, по достижении которого, Вы будете относить объект к классу 1. Вспомните, какую метрику мы оптимизируем в соревновании.  Как тогда правильно подобрать порог?"
   ]
  },
  {
   "cell_type": "code",
   "execution_count": null,
   "metadata": {
    "collapsed": true
   },
   "outputs": [],
   "source": []
  },
  {
   "cell_type": "code",
   "execution_count": null,
   "metadata": {
    "collapsed": true
   },
   "outputs": [],
   "source": []
  },
  {
   "cell_type": "markdown",
   "metadata": {},
   "source": [
    "С лучшими параметрами на валидации сделайте предсказание на тестовом множестве, отправьте его на проверку на платформу kaggle. Убедитесь, что Вы смогли побить public score первого бейзлайна."
   ]
  },
  {
   "cell_type": "markdown",
   "metadata": {
    "collapsed": true
   },
   "source": [
    "** При сдаче домашки Вам необходимо кроме ссылки на ноутбук показать Ваш ник на kaggle, под которым Вы залили решение, которое побило Handmade baseline. **"
   ]
  },
  {
   "cell_type": "code",
   "execution_count": null,
   "metadata": {
    "collapsed": true
   },
   "outputs": [],
   "source": []
  },
  {
   "cell_type": "markdown",
   "metadata": {},
   "source": [
    "# Фидбек (бесценно)"
   ]
  },
  {
   "cell_type": "markdown",
   "metadata": {},
   "source": [
    "* Какие аспекты обучения линейных моделей Вам показались непонятными? Какое место стоит дополнительно объяснить?"
   ]
  },
  {
   "cell_type": "markdown",
   "metadata": {},
   "source": [
    "***Ваше ответ здесь***"
   ]
  },
  {
   "cell_type": "markdown",
   "metadata": {},
   "source": [
    "* Здесь Вы можете оставить отзыв о этой домашней работе или о всем курсе.   "
   ]
  },
  {
   "cell_type": "markdown",
   "metadata": {},
   "source": [
    "*** ВАШ ОТЗЫВ ЗДЕСЬ***"
   ]
  },
  {
   "cell_type": "code",
   "execution_count": null,
   "metadata": {
    "collapsed": true
   },
   "outputs": [],
   "source": []
  },
  {
   "cell_type": "code",
   "execution_count": 35,
   "metadata": {},
   "outputs": [
    {
     "data": {
      "text/plain": [
       "0.0"
      ]
     },
     "execution_count": 35,
     "metadata": {},
     "output_type": "execute_result"
    }
   ],
   "source": [
    "I = np.identity(1)\n",
    "I[0][0] = 0\n",
    "np.dot(I, np.square([1])/5).sum()"
   ]
  },
  {
   "cell_type": "code",
   "execution_count": 39,
   "metadata": {},
   "outputs": [
    {
     "data": {
      "text/plain": [
       "0.0"
      ]
     },
     "execution_count": 39,
     "metadata": {},
     "output_type": "execute_result"
    }
   ],
   "source": [
    "np.square([1])[1:].sum()/5"
   ]
  },
  {
   "cell_type": "code",
   "execution_count": 90,
   "metadata": {},
   "outputs": [
    {
     "data": {
      "text/plain": [
       "array([0. , 1.2])"
      ]
     },
     "execution_count": 90,
     "metadata": {},
     "output_type": "execute_result"
    }
   ],
   "source": [
    "I = np.identity(2)\n",
    "I[0][0] = 0\n",
    "(2 / 5) * (np.dot(I, [1,3]))\n"
   ]
  },
  {
   "cell_type": "code",
   "execution_count": 51,
   "metadata": {},
   "outputs": [
    {
     "data": {
      "text/plain": [
       "array([[ 1.41117206,  0.78580383],\n",
       "       [-0.05746952, -0.39121705],\n",
       "       [ 0.94091761,  0.40520408],\n",
       "       [ 0.4980524 , -0.02619224],\n",
       "       [-1.68823003, -0.11246598],\n",
       "       [-0.53248992,  0.64505527],\n",
       "       [ 1.01184243, -0.65795104],\n",
       "       [ 0.46838523,  1.735879  ],\n",
       "       [-0.66771272,  1.68192174],\n",
       "       [-0.85258585,  0.02295976],\n",
       "       [-0.01114561,  0.0114989 ],\n",
       "       [-0.83767804, -0.5911831 ],\n",
       "       [-0.66772029,  0.3269626 ],\n",
       "       [ 0.33003511,  2.22594433],\n",
       "       [ 1.37098901, -0.50984324],\n",
       "       [ 0.32486962,  0.99711798],\n",
       "       [ 0.03060182, -0.06964158],\n",
       "       [ 0.05157494,  0.86727663],\n",
       "       [-0.84832052, -0.32566947],\n",
       "       [ 0.47043314,  0.31144707],\n",
       "       [ 0.23958276, -0.36980117],\n",
       "       [ 0.97253579,  2.13386825],\n",
       "       [ 0.40641549, -0.1931767 ],\n",
       "       [ 0.75574029, -0.53913264],\n",
       "       [-0.74969034,  0.03280875],\n",
       "       [-2.58279663, -1.15395036],\n",
       "       [-0.34796186, -1.35338886],\n",
       "       [-1.0326431 , -0.43674834],\n",
       "       [-1.64296529, -0.4060718 ],\n",
       "       [-0.53527016,  0.02540521],\n",
       "       [ 1.15418403,  0.17250442],\n",
       "       [ 0.02106202,  0.09945446],\n",
       "       [ 0.22739278, -1.01673865],\n",
       "       [-0.11477532,  0.30875124],\n",
       "       [-1.37075998,  0.86565292],\n",
       "       [ 1.08137603, -0.63137599],\n",
       "       [-0.24133779, -0.87819034],\n",
       "       [ 0.69938048, -1.06122229],\n",
       "       [-0.22247701, -0.85891991],\n",
       "       [ 0.05095428, -1.79422927],\n",
       "       [ 1.32646164, -0.96460642],\n",
       "       [ 0.05989468, -0.21252304],\n",
       "       [-0.76211451, -0.88778014],\n",
       "       [ 0.93639854, -0.52564059],\n",
       "       [ 0.27117018, -0.80149689],\n",
       "       [-0.64718143,  0.47224715],\n",
       "       [ 0.9304085 , -0.1753164 ],\n",
       "       [-1.42191987,  1.99795608],\n",
       "       [-0.85654931, -1.5415874 ],\n",
       "       [ 2.59442459, -0.40403229],\n",
       "       [-1.46173269, -0.68343977],\n",
       "       [ 0.3675449 ,  0.19031156],\n",
       "       [-0.8517292 ,  1.8227236 ],\n",
       "       [-0.52157968, -1.18468659],\n",
       "       [ 0.9606934 ,  1.32906285],\n",
       "       [-0.8174931 , -1.40134729],\n",
       "       [ 1.03043827, -2.04732361],\n",
       "       [-1.22662166,  0.96744615],\n",
       "       [-0.05535255, -0.26393735],\n",
       "       [ 0.35281661, -0.15277442],\n",
       "       [-1.29868672,  1.27607535],\n",
       "       [ 1.32501405,  0.20533256],\n",
       "       [ 0.04513402,  2.33962481],\n",
       "       [-0.27643285, -0.25957698],\n",
       "       [ 0.36448125,  1.47132196],\n",
       "       [ 1.59277075, -0.25857263],\n",
       "       [ 0.30833125, -1.37808347],\n",
       "       [-0.31197611, -0.8402904 ],\n",
       "       [-1.00683175,  1.68157672],\n",
       "       [-0.79228666, -0.53160591],\n",
       "       [ 0.36584879,  1.29782527],\n",
       "       [ 0.48111513,  2.75935511],\n",
       "       [-0.07466798,  0.25871644],\n",
       "       [ 0.27560067,  1.43504939],\n",
       "       [ 0.50723895, -0.1162297 ],\n",
       "       [-0.94748859,  0.24444346],\n",
       "       [ 1.40134483, -0.41038179],\n",
       "       [ 0.52894362,  0.24614779],\n",
       "       [ 0.86351966, -0.80475374],\n",
       "       [ 2.34664703, -1.27916111],\n",
       "       [-0.36555109,  0.93809254],\n",
       "       [ 0.29673317,  0.82998616],\n",
       "       [-0.49610233, -0.07480498],\n",
       "       [ 0.01223198,  1.56925961],\n",
       "       [ 0.69042902,  0.79667211],\n",
       "       [-0.65792609,  0.96888264],\n",
       "       [ 0.22558166,  1.38914532],\n",
       "       [ 2.01406015, -0.30676578],\n",
       "       [-0.40630313, -0.86404499],\n",
       "       [-0.14357951, -0.38202545],\n",
       "       [ 0.3595044 , -0.14456682],\n",
       "       [-0.36159928,  1.06458514],\n",
       "       [-0.93788023,  0.43310795],\n",
       "       [-0.40594173,  0.7243685 ],\n",
       "       [ 1.38526155, -0.30309825],\n",
       "       [ 0.44103291,  0.17879287],\n",
       "       [-0.7994224 ,  0.24078751],\n",
       "       [ 0.28912051,  0.41287082],\n",
       "       [-0.1983989 ,  0.0941923 ],\n",
       "       [-1.14761094, -0.35811408],\n",
       "       [ 0.55596268,  0.89247389],\n",
       "       [-0.42231482,  0.10471403],\n",
       "       [ 0.22805333,  0.20147995],\n",
       "       [ 0.54077359, -1.81807763],\n",
       "       [-0.04932407,  0.2390336 ],\n",
       "       [-1.00033035,  1.67398571],\n",
       "       [ 0.16155927,  1.56340475],\n",
       "       [-0.79052302, -0.90730012],\n",
       "       [ 0.22425222, -1.67868836],\n",
       "       [ 0.21496559,  0.09721923],\n",
       "       [ 1.01566528,  0.70104134],\n",
       "       [-0.41747735, -1.09749665],\n",
       "       [ 1.71230522, -0.79211502],\n",
       "       [-1.04552456, -1.08485606],\n",
       "       [ 1.11730532, -0.5189002 ],\n",
       "       [-0.75370447,  0.13768983],\n",
       "       [-0.20694471, -0.67809546],\n",
       "       [ 0.75399147,  1.06531549],\n",
       "       [ 0.98531751,  0.76691967],\n",
       "       [ 0.40262553, -1.775888  ],\n",
       "       [ 1.66925081,  0.30198921],\n",
       "       [ 0.60815643,  1.11496232],\n",
       "       [ 1.4333525 ,  0.41839801],\n",
       "       [ 0.43554616, -0.59922428],\n",
       "       [ 0.03308975, -0.85416126],\n",
       "       [-0.71994053, -0.8935744 ],\n",
       "       [-0.15602389,  1.04909319],\n",
       "       [ 3.17097477,  0.18949964],\n",
       "       [-1.34841309,  1.26498333],\n",
       "       [-0.30078388, -0.66060859],\n",
       "       [ 0.20984948, -1.2406246 ],\n",
       "       [ 0.22246316, -0.08837552],\n",
       "       [ 0.09837791,  0.38141625],\n",
       "       [ 0.06749226,  0.01633808],\n",
       "       [ 0.28431452,  0.41540063],\n",
       "       [-1.03148246, -1.42999126],\n",
       "       [-0.06163805, -1.43273549],\n",
       "       [ 0.08753147,  0.93874688],\n",
       "       [ 0.60711167, -1.04817041],\n",
       "       [-0.86026245,  0.3283013 ],\n",
       "       [-0.40129781, -0.3166553 ],\n",
       "       [ 0.59690648, -0.98728669],\n",
       "       [-0.40123471, -0.80008248],\n",
       "       [-1.0431295 , -0.85707819],\n",
       "       [ 0.67746217,  0.05182039],\n",
       "       [-0.87916063, -0.23110161],\n",
       "       [-1.63880731, -0.73331281],\n",
       "       [ 2.14957453, -0.09024385],\n",
       "       [ 0.73165893, -0.06548838],\n",
       "       [ 0.34816924,  0.66325809],\n",
       "       [-1.1046166 , -0.03093626],\n",
       "       [ 1.57886519, -0.79550055],\n",
       "       [-0.56643985, -0.30769128],\n",
       "       [ 0.26902407,  0.52491786],\n",
       "       [ 1.26741165,  0.49949823],\n",
       "       [-0.06205313,  1.25916713],\n",
       "       [ 0.70411102, -1.49567952],\n",
       "       [ 2.52636824,  1.76992139],\n",
       "       [-0.16821422,  0.3779101 ],\n",
       "       [ 1.32435875, -0.17220079],\n",
       "       [ 0.73035179,  1.10457847],\n",
       "       [-1.01482591, -0.60233185],\n",
       "       [ 0.9214084 ,  0.46081448],\n",
       "       [ 0.92379656, -0.13256801],\n",
       "       [-0.28900521, -1.99863948],\n",
       "       [-1.14600043,  0.04706609],\n",
       "       [ 0.82455722,  0.53117837],\n",
       "       [-0.12824197, -0.27177157],\n",
       "       [ 0.21717963,  0.07821118],\n",
       "       [ 1.40454551,  0.14644077],\n",
       "       [-1.48124596, -1.27255814],\n",
       "       [ 1.51875934, -1.17116046],\n",
       "       [ 0.76449745, -0.26837274],\n",
       "       [-0.16975829, -0.13413278],\n",
       "       [ 1.22138496, -0.19284183],\n",
       "       [-0.03331928, -1.5308035 ],\n",
       "       [ 0.20669051,  0.53104251],\n",
       "       [ 0.23914558,  1.39789626],\n",
       "       [ 0.05517135,  0.29897746],\n",
       "       [ 1.64850401, -1.55001419],\n",
       "       [-0.45582535,  1.42615875],\n",
       "       [ 0.93612915,  0.6783801 ],\n",
       "       [ 0.83265074,  0.32706621],\n",
       "       [ 1.63159743,  0.37775917],\n",
       "       [ 0.23986711,  0.15895867],\n",
       "       [ 0.19286396, -1.15701728],\n",
       "       [ 0.77067305, -0.13043973],\n",
       "       [ 1.8219151 , -0.07565047],\n",
       "       [ 0.42091828,  0.24660219],\n",
       "       [-0.62555704,  0.99213683],\n",
       "       [ 1.90506364, -0.01477722],\n",
       "       [-0.30047879, -0.35502873],\n",
       "       [-1.89236189, -0.17781314],\n",
       "       [ 0.25099812,  1.05475793],\n",
       "       [ 0.96004774, -0.41649908],\n",
       "       [-0.27682299,  1.12390531],\n",
       "       [-0.1734639 , -0.51002954],\n",
       "       [ 1.39251845,  1.03758567],\n",
       "       [ 0.01879179, -0.59377745],\n",
       "       [-2.01188032,  0.58970361]])"
      ]
     },
     "execution_count": 51,
     "metadata": {},
     "output_type": "execute_result"
    }
   ],
   "source": [
    "np.random.randn(200, 2)"
   ]
  },
  {
   "cell_type": "code",
   "execution_count": 102,
   "metadata": {},
   "outputs": [
    {
     "data": {
      "text/plain": [
       "[50,\n",
       " 100,\n",
       " 150,\n",
       " 200,\n",
       " 250,\n",
       " 300,\n",
       " 350,\n",
       " 400,\n",
       " 450,\n",
       " 500,\n",
       " 550,\n",
       " 600,\n",
       " 650,\n",
       " 700,\n",
       " 750,\n",
       " 800,\n",
       " 850,\n",
       " 900,\n",
       " 950,\n",
       " 1000]"
      ]
     },
     "execution_count": 102,
     "metadata": {},
     "output_type": "execute_result"
    }
   ],
   "source": [
    "[i for i in range(50, 1000+1, 50)]"
   ]
  },
  {
   "cell_type": "code",
   "execution_count": 217,
   "metadata": {},
   "outputs": [
    {
     "data": {
      "text/plain": [
       "array([0, 1, 2, 3])"
      ]
     },
     "execution_count": 217,
     "metadata": {},
     "output_type": "execute_result"
    }
   ],
   "source": [
    "np.insert([1,2,3],0,0)"
   ]
  },
  {
   "cell_type": "code",
   "execution_count": null,
   "metadata": {},
   "outputs": [],
   "source": []
  }
 ],
 "metadata": {
  "anaconda-cloud": {},
  "kernelspec": {
   "display_name": "Python 3",
   "language": "python",
   "name": "python3"
  },
  "language_info": {
   "codemirror_mode": {
    "name": "ipython",
    "version": 3
   },
   "file_extension": ".py",
   "mimetype": "text/x-python",
   "name": "python",
   "nbconvert_exporter": "python",
   "pygments_lexer": "ipython3",
   "version": "3.7.1"
  },
  "nav_menu": {},
  "toc": {
   "colors": {
    "hover_highlight": "#DAA520",
    "navigate_num": "#000000",
    "navigate_text": "#333333",
    "running_highlight": "#FF0000",
    "selected_highlight": "#FFD700",
    "sidebar_border": "#EEEEEE",
    "wrapper_background": "#FFFFFF"
   },
   "moveMenuLeft": true,
   "nav_menu": {
    "height": "402px",
    "width": "253px"
   },
   "navigate_menu": true,
   "number_sections": false,
   "sideBar": true,
   "threshold": 4,
   "toc_cell": false,
   "toc_section_display": "block",
   "toc_window_display": true,
   "widenNotebook": false
  }
 },
 "nbformat": 4,
 "nbformat_minor": 2
}
