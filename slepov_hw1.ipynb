{
 "cells": [
  {
   "cell_type": "markdown",
   "metadata": {},
   "source": [
    "**Общая информация**\n",
    "\n",
    "**Срок сдачи:** 16 марта 2020, 08:30 \n",
    "\n",
    "**Штраф за опоздание:** по 1 баллу за 24 часа задержки. Через 5 дней домашнее задание сгорает.\n",
    "\n",
    "При отправлении ДЗ указывайте фамилию в названии файла\n",
    "Присылать ДЗ необходимо в виде ссылки на свой github репозиторий на почту ml1.sphere@mail.ru с указанием темы в следующем формате:\n",
    "\n",
    "[ML0220, Задание 1] Фамилия Имя.\n",
    "\n",
    "Используйте данный Ipython Notebook при оформлении домашнего задания."
   ]
  },
  {
   "cell_type": "markdown",
   "metadata": {},
   "source": [
    "\n",
    "**Штрафные баллы:**\n",
    "\n",
    "1. Отсутствие фамилии в имени скрипта (скрипт должен называться по аналогии со stroykova_hw1.ipynb) -0.5 баллов\n",
    "2. Все строчки должны быть выполнены. Нужно, чтобы output команды можно было увидеть уже в git'е. В противном случае -0.5 баллов\n"
   ]
  },
  {
   "cell_type": "code",
   "execution_count": 1,
   "metadata": {},
   "outputs": [],
   "source": [
    "import numpy as np\n",
    "import matplotlib.pyplot as plt\n",
    "\n",
    "import seaborn as sns\n",
    "from sklearn import datasets\n",
    "from sklearn.base import BaseEstimator\n",
    "#from sklearn.datasets import fetch_mldata, fetch_20newsgroups\n",
    "from sklearn.datasets import fetch_openml, fetch_20newsgroups\n",
    "\n",
    "from sklearn.model_selection import train_test_split\n",
    "from sklearn.neighbors import KNeighborsClassifier, KDTree\n",
    "from sklearn.metrics import accuracy_score\n",
    "\n",
    "from sklearn.metrics.pairwise import euclidean_distances\n",
    "from sklearn.metrics.pairwise import cosine_similarity\n",
    "from scipy.spatial import distance as dist\n",
    "from scipy.stats import mode\n",
    "\n",
    "from sklearn.feature_extraction.text import CountVectorizer"
   ]
  },
  {
   "cell_type": "markdown",
   "metadata": {},
   "source": [
    "##### Задание 1 (1 балл)\n",
    "Реализовать KNN в классе MyKNeighborsClassifier (обязательное условие: точность не ниже sklearn реализации)\n",
    "Разберитесь самостоятельно, какая мера расстояния используется в KNeighborsClassifier дефолтно и реализуйте свой алгоритм именно с этой мерой. \n",
    "Для подсчета расстояний можно использовать функции [отсюда](https://docs.scipy.org/doc/scipy/reference/spatial.distance.html)"
   ]
  },
  {
   "cell_type": "code",
   "execution_count": 2,
   "metadata": {},
   "outputs": [],
   "source": [
    "class MyKNeighborsClassifier(BaseEstimator):\n",
    "    \n",
    "    def __init__(self, n_neighbors, algorithm='brute', dist_meth='pure_numpy'):\n",
    "        self.n_neighbors = n_neighbors\n",
    "        self.algorithm = algorithm\n",
    "        self.dist_meth = dist_meth\n",
    "    \n",
    "    def fit(self, X, y):\n",
    "        if self.n_neighbors < X.shape[0]:\n",
    "            self.X_train = X\n",
    "            #print(self.X_train)\n",
    "            self.y_train = np.array(y)\n",
    "            self.classes = np.unique(y)\n",
    "\n",
    "        else:\n",
    "            print(\"Parameter n_neingbors is higher than \\\n",
    "                   the number of observations\")\n",
    "            return\n",
    "    \n",
    "    def predict(self, X, dist_meth=None):\n",
    "        n_neighbors = self.n_neighbors\n",
    "        algorithm = self.algorithm\n",
    "        if dist_meth is None:\n",
    "            dist_meth = self.dist_meth\n",
    "        #normal people don't use params in predict, but now it's convinient\n",
    "\n",
    "        if algorithm == 'brute':\n",
    "            if (dist_meth=='pure_numpy' or dist_meth=='pairwise_euclid' or dist_meth=='cosin'):\n",
    "                neigh_ind, neigh_dist = self.kneighbors_brute(X, dist_meth)\n",
    "            else:\n",
    "                print(\"Use 'pairwise_euclid', 'cosin' or 'pure_numpy' (default) for distances\")\n",
    "        elif algorithm == 'kd_tree':\n",
    "            tree = KDTree(self.X_train, leaf_size=2)\n",
    "            neigh_dist, neigh_ind = tree.query(X, k=n_neighbors)\n",
    "        else:\n",
    "            print(\"The name of algorithm is incorrect. \\\n",
    "                   Use 'brute' or 'kd_tree' \")\n",
    "        y_pred = np.transpose(mode(self.y_train[neigh_ind], axis=1)[0])[0]\n",
    "        return y_pred\n",
    "            \n",
    "    def kneighbors_brute(self, X, dist_meth):\n",
    "\n",
    "        n_neighbors = self.n_neighbors\n",
    "        if X.ndim==1:\n",
    "            X=X[np.newaxis,:]\n",
    "        #print(X.shape, self.X_train.shape)\n",
    "        if dist_meth=='pure_numpy':\n",
    "            distances = np.apply_along_axis(lambda x: np.linalg.norm(x-X,axis=1), 1, self.X_train).T\n",
    "        elif dist_meth=='cosin':\n",
    "            distances = -cosine_similarity(X, self.X_train)\n",
    "        else:\n",
    "            distances = euclidean_distances(X, self.X_train)\n",
    "        # It seems mincowski from scipy.spatial work slowly. Proved by experience and discussion:\n",
    "        # https://stackoverflow.com/questions/20277982/fastest-pairwise-distance-metric-in-python\n",
    "        \n",
    "        sort_indices = distances.argsort(axis=1)[:, :n_neighbors]\n",
    "        #it is possible make O(k log n + n) by heapq (not n log n), \n",
    "        #but with euclidian_distances and numpy Classifier works fast enough\n",
    "        \n",
    "        distances.sort()\n",
    "        distances[:, :n_neighbors]\n",
    "\n",
    "        return sort_indices, distances[:, :n_neighbors]\n",
    "    \n",
    "    def score(self, X, y):\n",
    "\n",
    "        y_pred = self.predict(X)\n",
    "\n",
    "        differing_labels = np.count_nonzero(y_pred - y)\n",
    "\n",
    "        return 1 - differing_labels / y_pred.shape[0]"
   ]
  },
  {
   "cell_type": "markdown",
   "metadata": {},
   "source": [
    "**IRIS**\n",
    "\n",
    "В библиотеке scikit-learn есть несколько датасетов из коробки. Один из них [Ирисы Фишера](https://ru.wikipedia.org/wiki/%D0%98%D1%80%D0%B8%D1%81%D1%8B_%D0%A4%D0%B8%D1%88%D0%B5%D1%80%D0%B0)"
   ]
  },
  {
   "cell_type": "code",
   "execution_count": 3,
   "metadata": {},
   "outputs": [],
   "source": [
    "iris = datasets.load_iris()"
   ]
  },
  {
   "cell_type": "code",
   "execution_count": 4,
   "metadata": {},
   "outputs": [],
   "source": [
    "X_train, X_test, y_train, y_test = train_test_split(iris.data, iris.target, test_size=0.1, stratify=iris.target)"
   ]
  },
  {
   "cell_type": "code",
   "execution_count": 5,
   "metadata": {},
   "outputs": [],
   "source": [
    "clf = KNeighborsClassifier(n_neighbors=2, algorithm='brute')\n",
    "my_clf = MyKNeighborsClassifier(n_neighbors=2, algorithm='brute')"
   ]
  },
  {
   "cell_type": "code",
   "execution_count": 6,
   "metadata": {},
   "outputs": [],
   "source": [
    "clf.fit(X_train, y_train)\n",
    "my_clf.fit(X_train, y_train)"
   ]
  },
  {
   "cell_type": "code",
   "execution_count": 7,
   "metadata": {},
   "outputs": [],
   "source": [
    "sklearn_pred = clf.predict(X_test)\n",
    "my_clf_pred = my_clf.predict(X_test)\n",
    "assert abs( accuracy_score(y_test, my_clf_pred) -  accuracy_score(y_test, sklearn_pred ) )<0.005, \"Score must be simillar\""
   ]
  },
  {
   "cell_type": "code",
   "execution_count": 8,
   "metadata": {},
   "outputs": [
    {
     "data": {
      "text/plain": [
       "0.9333333333333333"
      ]
     },
     "execution_count": 8,
     "metadata": {},
     "output_type": "execute_result"
    }
   ],
   "source": [
    "accuracy_score(y_test, my_clf_pred)"
   ]
  },
  {
   "cell_type": "markdown",
   "metadata": {},
   "source": [
    "**Задание 2 (0.5 балла)**\n",
    "\n",
    "Давайте попробуем добиться скорости работы на fit, predict сравнимой со sklearn для iris. Допускается замедление не более чем в 2 раза. \n",
    "Для этого используем numpy. "
   ]
  },
  {
   "cell_type": "code",
   "execution_count": 21,
   "metadata": {},
   "outputs": [
    {
     "name": "stdout",
     "output_type": "stream",
     "text": [
      "Wall time: 995 µs\n"
     ]
    },
    {
     "data": {
      "text/plain": [
       "KNeighborsClassifier(algorithm='brute', leaf_size=30, metric='minkowski',\n",
       "                     metric_params=None, n_jobs=None, n_neighbors=2, p=2,\n",
       "                     weights='uniform')"
      ]
     },
     "execution_count": 21,
     "metadata": {},
     "output_type": "execute_result"
    }
   ],
   "source": [
    "%time clf.fit(X_train, y_train)"
   ]
  },
  {
   "cell_type": "code",
   "execution_count": 22,
   "metadata": {},
   "outputs": [
    {
     "name": "stdout",
     "output_type": "stream",
     "text": [
      "Wall time: 0 ns\n"
     ]
    }
   ],
   "source": [
    "%time my_clf.fit(X_train, y_train)"
   ]
  },
  {
   "cell_type": "code",
   "execution_count": 23,
   "metadata": {},
   "outputs": [
    {
     "name": "stdout",
     "output_type": "stream",
     "text": [
      "Wall time: 2 ms\n"
     ]
    },
    {
     "data": {
      "text/plain": [
       "array([0, 2, 1, 2, 1, 1, 2, 0, 0, 1, 0, 2, 1, 1, 0])"
      ]
     },
     "execution_count": 23,
     "metadata": {},
     "output_type": "execute_result"
    }
   ],
   "source": [
    "%time clf.predict(X_test)"
   ]
  },
  {
   "cell_type": "code",
   "execution_count": 24,
   "metadata": {},
   "outputs": [
    {
     "name": "stdout",
     "output_type": "stream",
     "text": [
      "Wall time: 2.99 ms\n"
     ]
    },
    {
     "data": {
      "text/plain": [
       "array([0, 2, 1, 2, 1, 1, 2, 0, 0, 1, 0, 2, 1, 1, 0])"
      ]
     },
     "execution_count": 24,
     "metadata": {},
     "output_type": "execute_result"
    }
   ],
   "source": [
    "%time my_clf.predict(X_test)"
   ]
  },
  {
   "cell_type": "code",
   "execution_count": 25,
   "metadata": {},
   "outputs": [
    {
     "name": "stdout",
     "output_type": "stream",
     "text": [
      "Wall time: 2 ms\n"
     ]
    },
    {
     "data": {
      "text/plain": [
       "array([0, 2, 1, 2, 1, 1, 2, 0, 0, 1, 0, 2, 1, 1, 0])"
      ]
     },
     "execution_count": 25,
     "metadata": {},
     "output_type": "execute_result"
    }
   ],
   "source": [
    "%time my_clf.predict(X_test, dist_meth = 'pairwise_euclid')"
   ]
  },
  {
   "cell_type": "code",
   "execution_count": 26,
   "metadata": {},
   "outputs": [
    {
     "name": "stdout",
     "output_type": "stream",
     "text": [
      "Wall time: 1.96 ms\n"
     ]
    },
    {
     "data": {
      "text/plain": [
       "array([0, 2, 2, 2, 1, 1, 2, 0, 0, 1, 0, 2, 1, 1, 0])"
      ]
     },
     "execution_count": 26,
     "metadata": {},
     "output_type": "execute_result"
    }
   ],
   "source": [
    "%time my_clf.predict(X_test, dist_meth = 'cosin')"
   ]
  },
  {
   "cell_type": "markdown",
   "metadata": {},
   "source": [
    "###### Задание 3 (1 балл)\n",
    "Добавьте algorithm='kd_tree' в реализацию KNN (использовать KDTree из sklearn.neighbors). Необходимо добиться скорости работы на fit,  predict сравнимой со sklearn для iris. Допускается замедление не более чем в 2 раза. \n",
    "Для этого используем numpy. Точность не должна уступать значению KNN из sklearn. "
   ]
  },
  {
   "cell_type": "code",
   "execution_count": 27,
   "metadata": {},
   "outputs": [],
   "source": [
    "clf = KNeighborsClassifier(n_neighbors=2, algorithm='kd_tree')\n",
    "my_clf = MyKNeighborsClassifier(n_neighbors=2, algorithm='kd_tree')"
   ]
  },
  {
   "cell_type": "code",
   "execution_count": 28,
   "metadata": {},
   "outputs": [
    {
     "data": {
      "text/plain": [
       "((135, 4), (15, 4), (135,), (15,))"
      ]
     },
     "execution_count": 28,
     "metadata": {},
     "output_type": "execute_result"
    }
   ],
   "source": [
    "X_train, X_test, y_train, y_test = train_test_split(iris.data, iris.target, test_size=0.1, stratify=iris.target)\n",
    "X_train.shape, X_test.shape, y_train.shape, y_test.shape"
   ]
  },
  {
   "cell_type": "code",
   "execution_count": 29,
   "metadata": {},
   "outputs": [
    {
     "name": "stdout",
     "output_type": "stream",
     "text": [
      "Wall time: 4.99 ms\n"
     ]
    },
    {
     "data": {
      "text/plain": [
       "KNeighborsClassifier(algorithm='kd_tree', leaf_size=30, metric='minkowski',\n",
       "                     metric_params=None, n_jobs=None, n_neighbors=2, p=2,\n",
       "                     weights='uniform')"
      ]
     },
     "execution_count": 29,
     "metadata": {},
     "output_type": "execute_result"
    }
   ],
   "source": [
    "%time clf.fit(X_train, y_train)"
   ]
  },
  {
   "cell_type": "code",
   "execution_count": 30,
   "metadata": {},
   "outputs": [
    {
     "name": "stdout",
     "output_type": "stream",
     "text": [
      "Wall time: 0 ns\n"
     ]
    }
   ],
   "source": [
    "%time my_clf.fit(X_train, y_train)"
   ]
  },
  {
   "cell_type": "code",
   "execution_count": 31,
   "metadata": {},
   "outputs": [
    {
     "name": "stdout",
     "output_type": "stream",
     "text": [
      "Wall time: 5.99 ms\n"
     ]
    },
    {
     "data": {
      "text/plain": [
       "array([0, 2, 2, 1, 2, 1, 0, 0, 1, 1, 0, 2, 1, 1, 0])"
      ]
     },
     "execution_count": 31,
     "metadata": {},
     "output_type": "execute_result"
    }
   ],
   "source": [
    "%time clf.predict(X_test)"
   ]
  },
  {
   "cell_type": "code",
   "execution_count": 32,
   "metadata": {},
   "outputs": [
    {
     "name": "stdout",
     "output_type": "stream",
     "text": [
      "Wall time: 996 µs\n"
     ]
    },
    {
     "data": {
      "text/plain": [
       "array([0, 2, 2, 1, 2, 1, 0, 0, 1, 1, 0, 2, 1, 1, 0])"
      ]
     },
     "execution_count": 32,
     "metadata": {},
     "output_type": "execute_result"
    }
   ],
   "source": [
    "%time my_clf.predict(X_test)"
   ]
  },
  {
   "cell_type": "code",
   "execution_count": 33,
   "metadata": {},
   "outputs": [],
   "source": [
    "sklearn_pred = clf.predict(X_test)\n",
    "my_clf_pred = my_clf.predict(X_test)\n",
    "assert abs( accuracy_score(y_test, my_clf_pred) -  accuracy_score(y_test, sklearn_pred ) )<0.005, \"Score must be simillar\""
   ]
  },
  {
   "cell_type": "markdown",
   "metadata": {},
   "source": [
    "**Задание 4 (2.5 балла)**\n",
    "\n",
    "Рассмотрим новый датасет 20 newsgroups"
   ]
  },
  {
   "cell_type": "code",
   "execution_count": 34,
   "metadata": {},
   "outputs": [],
   "source": [
    "newsgroups = fetch_20newsgroups(subset='train',remove=['headers','footers', 'quotes'])"
   ]
  },
  {
   "cell_type": "code",
   "execution_count": 35,
   "metadata": {},
   "outputs": [],
   "source": [
    "data = newsgroups['data']\n",
    "target = newsgroups['target']"
   ]
  },
  {
   "cell_type": "markdown",
   "metadata": {},
   "source": [
    "Преобразуйте текстовые данные из data с помощью [CountVectorizer](https://scikit-learn.org/stable/modules/generated/sklearn.feature_extraction.text.CountVectorizer.html). Словарь можно ограничить по частотности."
   ]
  },
  {
   "cell_type": "markdown",
   "metadata": {},
   "source": [
    "По частотности ограничим потом, сначала вырежем то, что не является словами.\n",
    "Кроме того, уберём общеупотребительные слова, которые вряд ли влияют на модель."
   ]
  },
  {
   "cell_type": "code",
   "execution_count": 36,
   "metadata": {},
   "outputs": [
    {
     "name": "stderr",
     "output_type": "stream",
     "text": [
      "[nltk_data] Downloading package stopwords to\n",
      "[nltk_data]     C:\\Users\\admin\\AppData\\Roaming\\nltk_data...\n",
      "[nltk_data]   Package stopwords is already up-to-date!\n"
     ]
    },
    {
     "data": {
      "text/plain": [
       "True"
      ]
     },
     "execution_count": 36,
     "metadata": {},
     "output_type": "execute_result"
    }
   ],
   "source": [
    "import nltk\n",
    "nltk.download('stopwords')"
   ]
  },
  {
   "cell_type": "code",
   "execution_count": 37,
   "metadata": {
    "scrolled": true
   },
   "outputs": [
    {
     "name": "stdout",
     "output_type": "stream",
     "text": [
      "['your', 'yours', 'yourself', 'yourselves', 'he', 'him', 'his', 'himself', 'she', \"she's\"]\n"
     ]
    }
   ],
   "source": [
    "from nltk.corpus import stopwords\n",
    "stopwords.words('english')\n",
    "print(stopwords.words()[620:630])"
   ]
  },
  {
   "cell_type": "code",
   "execution_count": 38,
   "metadata": {},
   "outputs": [],
   "source": [
    "vectorizer = CountVectorizer(strip_accents='ascii', analyzer='word', stop_words=stopwords.words('english'), \n",
    "                             token_pattern=r'\\b[^\\d\\W_]+\\b')\n",
    "X = vectorizer.fit_transform(data)"
   ]
  },
  {
   "cell_type": "code",
   "execution_count": 39,
   "metadata": {},
   "outputs": [
    {
     "data": {
      "text/plain": [
       "['abernathy',\n",
       " 'aberrant',\n",
       " 'aberration',\n",
       " 'aberrations',\n",
       " 'abetting',\n",
       " 'abfb',\n",
       " 'abfdefghiijklmmnohpp',\n",
       " 'abgarovich',\n",
       " 'abhin',\n",
       " 'abhor']"
      ]
     },
     "execution_count": 39,
     "metadata": {},
     "output_type": "execute_result"
    }
   ],
   "source": [
    "vectorizer.get_feature_names()[100:110]"
   ]
  },
  {
   "cell_type": "code",
   "execution_count": 40,
   "metadata": {},
   "outputs": [
    {
     "data": {
      "text/plain": [
       "((11314, 67610), (11314,))"
      ]
     },
     "execution_count": 40,
     "metadata": {},
     "output_type": "execute_result"
    }
   ],
   "source": [
    "X.shape, target.shape"
   ]
  },
  {
   "cell_type": "markdown",
   "metadata": {},
   "source": [
    "Без предобработки мы бы насчитали не 67, а более 110 тысяч слов."
   ]
  },
  {
   "cell_type": "markdown",
   "metadata": {},
   "source": [
    "Обрежу по частотам довольно сильно, чтобы получить хоть какой-нибудь результат за разумное количество времени."
   ]
  },
  {
   "cell_type": "code",
   "execution_count": 41,
   "metadata": {},
   "outputs": [
    {
     "data": {
      "text/plain": [
       "((11314, 213), (11314,))"
      ]
     },
     "execution_count": 41,
     "metadata": {},
     "output_type": "execute_result"
    }
   ],
   "source": [
    "cond1 = np.ravel(X.sum(axis=0) > 50)\n",
    "cond2 = np.ravel(X.sum(axis=0) < 55)\n",
    "#np.count_nonzero(cond)\n",
    "#print(cond)\n",
    "X_new=X[:,cond1 & cond2]\n",
    "X_new.shape, target.shape"
   ]
  },
  {
   "cell_type": "code",
   "execution_count": 42,
   "metadata": {},
   "outputs": [],
   "source": [
    "X_new=X_new.toarray()"
   ]
  },
  {
   "cell_type": "code",
   "execution_count": 43,
   "metadata": {},
   "outputs": [],
   "source": [
    "import sklearn.model_selection as MS\n",
    "#cross_validate, KFold, cross_val_score"
   ]
  },
  {
   "cell_type": "markdown",
   "metadata": {},
   "source": [
    "*Так мы получили векторное представление наших текстов. Значит можно приступать к задаче обучения модели*"
   ]
  },
  {
   "cell_type": "markdown",
   "metadata": {},
   "source": [
    "Реализуйте разбиение выборки для кросс-валидации на 3 фолдах. Разрешено использовать sklearn.cross_validation"
   ]
  },
  {
   "cell_type": "code",
   "execution_count": 44,
   "metadata": {},
   "outputs": [
    {
     "name": "stdout",
     "output_type": "stream",
     "text": [
      "Wall time: 2min 43s\n"
     ]
    },
    {
     "data": {
      "text/plain": [
       "array([0.10577943, 0.11217184, 0.11482365])"
      ]
     },
     "execution_count": 44,
     "metadata": {},
     "output_type": "execute_result"
    }
   ],
   "source": [
    "my_clf=MyKNeighborsClassifier(n_neighbors=2, algorithm='brute')\n",
    "%time MS.cross_val_score(my_clf, X_new, target, scoring = 'accuracy', cv=3, n_jobs=-1)"
   ]
  },
  {
   "cell_type": "code",
   "execution_count": 45,
   "metadata": {},
   "outputs": [
    {
     "name": "stdout",
     "output_type": "stream",
     "text": [
      "Wall time: 3.45 s\n"
     ]
    },
    {
     "data": {
      "text/plain": [
       "array([0.10577943, 0.11217184, 0.11482365])"
      ]
     },
     "execution_count": 45,
     "metadata": {},
     "output_type": "execute_result"
    }
   ],
   "source": [
    "my_clf=MyKNeighborsClassifier(n_neighbors=2, algorithm='brute', dist_meth='pairwise_euclid')\n",
    "%time MS.cross_val_score(my_clf, X_new, target, scoring = 'accuracy', cv=3, n_jobs=-1)"
   ]
  },
  {
   "cell_type": "markdown",
   "metadata": {},
   "source": [
    "Несмотря на то, что первый метод хорошо справился с первыми данными (про ирисы) -- здесь он работает медленно (но также).\n",
    "Будем экономить время и использовать второй способ."
   ]
  },
  {
   "cell_type": "markdown",
   "metadata": {},
   "source": [
    "Теперь обрежем по частотам приемлимым способом."
   ]
  },
  {
   "cell_type": "code",
   "execution_count": 46,
   "metadata": {},
   "outputs": [
    {
     "data": {
      "text/plain": [
       "((11314, 11355), (11314,))"
      ]
     },
     "execution_count": 46,
     "metadata": {},
     "output_type": "execute_result"
    }
   ],
   "source": [
    "cond1 = np.ravel(X.sum(axis=0) > 10)\n",
    "cond2 = np.ravel(X.sum(axis=0) < 1000)\n",
    "#np.count_nonzero(cond)\n",
    "#print(cond)\n",
    "X_new=X[:,cond1 & cond2]\n",
    "X_new.shape, target.shape"
   ]
  },
  {
   "cell_type": "code",
   "execution_count": 47,
   "metadata": {},
   "outputs": [],
   "source": [
    "X_new=X_new.toarray()"
   ]
  },
  {
   "cell_type": "code",
   "execution_count": 48,
   "metadata": {},
   "outputs": [
    {
     "data": {
      "text/plain": [
       "((11314, 11355), (11314,))"
      ]
     },
     "execution_count": 48,
     "metadata": {},
     "output_type": "execute_result"
    }
   ],
   "source": [
    "my_clf = MyKNeighborsClassifier(n_neighbors=2, algorithm='brute', dist_meth='pairwise_euclid')\n",
    "my_clf.fit(X_new, target)\n",
    "my_clf.X_train.shape, my_clf.y_train.shape"
   ]
  },
  {
   "cell_type": "code",
   "execution_count": 49,
   "metadata": {},
   "outputs": [
    {
     "data": {
      "text/plain": [
       "0.24032112757224558"
      ]
     },
     "execution_count": 49,
     "metadata": {},
     "output_type": "execute_result"
    }
   ],
   "source": [
    "scores = MS.cross_validate(my_clf, X_new, target, cv=3, n_jobs=-1)\n",
    "np.mean(scores['test_score'])"
   ]
  },
  {
   "cell_type": "markdown",
   "metadata": {},
   "source": [
    "Учитывая, что мы выбираем из 20 категорий -- для евклидовой метрики не так уж плохо. Как мы увидим далее, для анализа текстов лучше подходит косинусная метрика. "
   ]
  },
  {
   "cell_type": "markdown",
   "metadata": {},
   "source": [
    "Напишите метод, позволяющий найти оптимальное количество ближайших соседей(дающее максимальную точность в среднем на валидации на 3 фолдах).\n",
    "Постройте график зависимости средней точности от количества соседей. Можно рассмотреть число соседей от 1 до 10."
   ]
  },
  {
   "cell_type": "code",
   "execution_count": 50,
   "metadata": {},
   "outputs": [
    {
     "name": "stdout",
     "output_type": "stream",
     "text": [
      "[0.28575059201873537, 0.24032112757224558, 0.2379343989904912, 0.23722762287288743, 0.23599022567998848, 0.2355480687905008, 0.23236586556312108, 0.230068163588488, 0.228124037146428, 0.22750558460930323]\n"
     ]
    }
   ],
   "source": [
    "score_store=[]\n",
    "for i in range(1,11):\n",
    "    my_clf = MyKNeighborsClassifier(n_neighbors=i, algorithm='brute', dist_meth='pairwise_euclid')\n",
    "    my_clf.fit(X_new, target)\n",
    "    scores = MS.cross_validate(my_clf, X_new, target, cv=3, n_jobs=-1)\n",
    "    score_store.append(np.mean(scores['test_score']))\n",
    "print(score_store)"
   ]
  },
  {
   "cell_type": "code",
   "execution_count": 51,
   "metadata": {},
   "outputs": [
    {
     "data": {
      "image/png": "[encoded data removed]",
      "text/plain": [
       "<Figure size 720x720 with 1 Axes>"
      ]
     },
     "metadata": {
      "needs_background": "light"
     },
     "output_type": "display_data"
    }
   ],
   "source": [
    "from matplotlib import pyplot as plt\n",
    "plt.figure(figsize=(10, 10))\n",
    "plt.title(\"SearchCV: neighbors evaluating: euclid\",\n",
    "          fontsize=16)\n",
    "plt.xlabel(\"n_estimators\")\n",
    "plt.ylabel(\"accuracy\")\n",
    "a=plt.gca()\n",
    "a.plot(range(1,11), score_store, label='cv=3')\n",
    "plt.legend()\n",
    "plt.show()"
   ]
  },
  {
   "cell_type": "markdown",
   "metadata": {},
   "source": [
    "Как изменится качество на валидации, если:\n",
    "\n",
    "1. Используется косинусная метрика вместо евклидовой.\n",
    "2. К текстам применяется TfIdf векторизацию( sklearn.feature_extraction.text.TfidfVectorizer)\n",
    "\n",
    "Сравните модели, выберите лучшую."
   ]
  },
  {
   "cell_type": "code",
   "execution_count": 52,
   "metadata": {},
   "outputs": [
    {
     "name": "stdout",
     "output_type": "stream",
     "text": [
      "[0.5360614469656855, 0.4946078559571525, 0.5182959637178262, 0.5396853149639034, 0.5574509388170911, 0.563196095971198, 0.5692949458289851, 0.5762769611888987, 0.5809614620479504, 0.5819338181967479]\n"
     ]
    }
   ],
   "source": [
    "score_store=[]\n",
    "for i in range(1,11):\n",
    "    my_clf = MyKNeighborsClassifier(n_neighbors=i, algorithm='brute', dist_meth='cosin')\n",
    "    my_clf.fit(X_new, target)\n",
    "    scores = MS.cross_validate(my_clf, X_new, target, cv=3, n_jobs=-1)\n",
    "    score_store.append(np.mean(scores['test_score']))\n",
    "print(score_store)"
   ]
  },
  {
   "cell_type": "code",
   "execution_count": 53,
   "metadata": {},
   "outputs": [
    {
     "data": {
      "image/png": "[encoded data removed]",
      "text/plain": [
       "<Figure size 720x720 with 1 Axes>"
      ]
     },
     "metadata": {
      "needs_background": "light"
     },
     "output_type": "display_data"
    }
   ],
   "source": [
    "plt.figure(figsize=(10, 10))\n",
    "plt.title(\"SearchCV: neighbors evaluating: cosin\",\n",
    "          fontsize=16)\n",
    "plt.xlabel(\"n_estimators\")\n",
    "plt.ylabel(\"accuracy\")\n",
    "a=plt.gca()\n",
    "a.plot(range(1,11), score_store, label='cv=3')\n",
    "plt.legend()\n",
    "plt.show()"
   ]
  },
  {
   "cell_type": "markdown",
   "metadata": {},
   "source": [
    "Косинусная метрика работает значительно лучше!\n",
    "Выбираем её для случая десяти соседей."
   ]
  },
  {
   "cell_type": "markdown",
   "metadata": {},
   "source": [
    "Загрузим  теперь test  часть нашей выборки и преобразуем её аналогично с train частью. Не забудьте, что наборы слов в train и test части могут отличаться."
   ]
  },
  {
   "cell_type": "code",
   "execution_count": 54,
   "metadata": {},
   "outputs": [],
   "source": [
    "newsgroups_test = fetch_20newsgroups(subset='test',remove=['headers','footers', 'quotes'])"
   ]
  },
  {
   "cell_type": "markdown",
   "metadata": {},
   "source": [
    "Оценим точность вашей лучшей модели на test части датасета. Отличается ли оно от кросс-валидации? Попробуйте сделать выводы, почему отличается качество."
   ]
  },
  {
   "cell_type": "code",
   "execution_count": 55,
   "metadata": {},
   "outputs": [
    {
     "data": {
      "text/plain": [
       "7532"
      ]
     },
     "execution_count": 55,
     "metadata": {},
     "output_type": "execute_result"
    }
   ],
   "source": [
    "y_data = newsgroups_test['data']\n",
    "y_target = newsgroups_test['target']\n",
    "test_len=len(y_data)\n",
    "test_len"
   ]
  },
  {
   "cell_type": "code",
   "execution_count": 56,
   "metadata": {},
   "outputs": [
    {
     "data": {
      "text/plain": [
       "18846"
      ]
     },
     "execution_count": 56,
     "metadata": {},
     "output_type": "execute_result"
    }
   ],
   "source": [
    "all_data = []\n",
    "all_data.extend(data)\n",
    "all_data.extend(y_data)\n",
    "len(all_data)"
   ]
  },
  {
   "cell_type": "code",
   "execution_count": 57,
   "metadata": {},
   "outputs": [],
   "source": [
    "vectorizer = CountVectorizer(strip_accents='ascii', analyzer='word', stop_words=stopwords.words('english'), \n",
    "                             token_pattern=r'\\b[^\\d\\W_]+\\b')\n",
    "all_X = vectorizer.fit_transform(all_data)"
   ]
  },
  {
   "cell_type": "code",
   "execution_count": 58,
   "metadata": {},
   "outputs": [
    {
     "data": {
      "text/plain": [
       "['abcs',\n",
       " 'abd',\n",
       " 'abdel',\n",
       " 'abdelhamoud',\n",
       " 'abdi',\n",
       " 'abdicate',\n",
       " 'abdication',\n",
       " 'abdn',\n",
       " 'abdo',\n",
       " 'abdomen']"
      ]
     },
     "execution_count": 58,
     "metadata": {},
     "output_type": "execute_result"
    }
   ],
   "source": [
    "vectorizer.get_feature_names()[100:110]"
   ]
  },
  {
   "cell_type": "code",
   "execution_count": 59,
   "metadata": {},
   "outputs": [
    {
     "data": {
      "text/plain": [
       "((18846, 86763), (7532,))"
      ]
     },
     "execution_count": 59,
     "metadata": {},
     "output_type": "execute_result"
    }
   ],
   "source": [
    "all_X.shape, y_target.shape"
   ]
  },
  {
   "cell_type": "code",
   "execution_count": 60,
   "metadata": {},
   "outputs": [
    {
     "data": {
      "text/plain": [
       "((18846, 15133), (11314,), (7532,))"
      ]
     },
     "execution_count": 60,
     "metadata": {},
     "output_type": "execute_result"
    }
   ],
   "source": [
    "cond1 = np.ravel(all_X.sum(axis=0) > 10)\n",
    "cond2 = np.ravel(all_X.sum(axis=0) < 1000)\n",
    "#np.count_nonzero(cond)\n",
    "#print(cond)\n",
    "all_X_new=all_X[:,cond1 & cond2]\n",
    "all_X_new.shape, target.shape, y_target.shape"
   ]
  },
  {
   "cell_type": "code",
   "execution_count": 61,
   "metadata": {},
   "outputs": [],
   "source": [
    "all_X_new=all_X_new.toarray()"
   ]
  },
  {
   "cell_type": "code",
   "execution_count": 62,
   "metadata": {},
   "outputs": [
    {
     "name": "stdout",
     "output_type": "stream",
     "text": [
      "11314\n"
     ]
    },
    {
     "data": {
      "text/plain": [
       "((11314, 15133), (7532, 15133))"
      ]
     },
     "execution_count": 62,
     "metadata": {},
     "output_type": "execute_result"
    }
   ],
   "source": [
    "train_len=target.shape[0]\n",
    "print(train_len)\n",
    "all_X_new[:-test_len,:].shape, all_X_new[train_len:,:].shape"
   ]
  },
  {
   "cell_type": "code",
   "execution_count": 63,
   "metadata": {},
   "outputs": [],
   "source": [
    "score_store=[]\n",
    "\n",
    "my_clf = MyKNeighborsClassifier(n_neighbors=10, algorithm='brute', dist_meth='cosin')\n",
    "my_clf.fit(all_X_new[:-test_len,:], target)\n",
    "my_predict=my_clf.predict(all_X_new[train_len:,:])\n"
   ]
  },
  {
   "cell_type": "code",
   "execution_count": 64,
   "metadata": {},
   "outputs": [
    {
     "data": {
      "text/plain": [
       "0.5278810408921932"
      ]
     },
     "execution_count": 64,
     "metadata": {},
     "output_type": "execute_result"
    }
   ],
   "source": [
    "differing_labels = np.count_nonzero(my_predict - y_target)\n",
    "accuracy=1 - differing_labels / my_predict.shape[0]\n",
    "accuracy"
   ]
  },
  {
   "cell_type": "markdown",
   "metadata": {},
   "source": [
    "По сравнению с тестовой выборкой показатель упал более, чем на 0.05.\n",
    "\n",
    "Тем не менее, мы неплохо разбрасываем новости по темам.\n",
    "Нельзя сказать, что получилось принципиально хуже -- весь смысл скользящего контроля (перекрёстной проверки) как раз и состоит в том, что на новой выборке алгоритм будет работать примерно также. "
   ]
  },
  {
   "cell_type": "code",
   "execution_count": null,
   "metadata": {},
   "outputs": [],
   "source": []
  },
  {
   "cell_type": "code",
   "execution_count": null,
   "metadata": {},
   "outputs": [],
   "source": []
  },
  {
   "cell_type": "markdown",
   "metadata": {},
   "source": [
    "**Черновик**"
   ]
  },
  {
   "cell_type": "code",
   "execution_count": 65,
   "metadata": {},
   "outputs": [],
   "source": [
    "a=np.array([[21,0,0],[1,2,3],[4,5,6]])\n",
    "b=np.array([[5,5,5],[10,10,10]])\n",
    "c=np.apply_along_axis(lambda x: a-x, 1, b)"
   ]
  },
  {
   "cell_type": "code",
   "execution_count": 66,
   "metadata": {},
   "outputs": [
    {
     "data": {
      "text/plain": [
       "(array([[[ 16,  -5,  -5],\n",
       "         [ -4,  -3,  -2],\n",
       "         [ -1,   0,   1]],\n",
       " \n",
       "        [[ 11, -10, -10],\n",
       "         [ -9,  -8,  -7],\n",
       "         [ -6,  -5,  -4]]]), (2, 3, 3))"
      ]
     },
     "execution_count": 66,
     "metadata": {},
     "output_type": "execute_result"
    }
   ],
   "source": [
    "c, c.shape"
   ]
  },
  {
   "cell_type": "code",
   "execution_count": 67,
   "metadata": {},
   "outputs": [
    {
     "data": {
      "text/plain": [
       "array([[17.49285568, 17.91647287],\n",
       "       [ 5.38516481, 13.92838828],\n",
       "       [ 1.41421356,  8.77496439]])"
      ]
     },
     "execution_count": 67,
     "metadata": {},
     "output_type": "execute_result"
    }
   ],
   "source": [
    "np.linalg.norm(np.apply_along_axis(lambda x: x-b, 1, a), axis=2) #memory unfriendly variant"
   ]
  },
  {
   "cell_type": "code",
   "execution_count": 68,
   "metadata": {},
   "outputs": [
    {
     "data": {
      "text/plain": [
       "array([[17.49285568, 17.91647287],\n",
       "       [ 5.38516481, 13.92838828],\n",
       "       [ 1.41421356,  8.77496439]])"
      ]
     },
     "execution_count": 68,
     "metadata": {},
     "output_type": "execute_result"
    }
   ],
   "source": [
    "np.apply_along_axis(lambda x: np.linalg.norm(x-b,axis=1), 1, a)"
   ]
  },
  {
   "cell_type": "code",
   "execution_count": 69,
   "metadata": {},
   "outputs": [
    {
     "data": {
      "text/plain": [
       "array([[17.49285568, 17.91647287],\n",
       "       [ 5.38516481, 13.92838828],\n",
       "       [ 1.41421356,  8.77496439]])"
      ]
     },
     "execution_count": 69,
     "metadata": {},
     "output_type": "execute_result"
    }
   ],
   "source": [
    "euclidean_distances(a,b)"
   ]
  },
  {
   "cell_type": "code",
   "execution_count": null,
   "metadata": {},
   "outputs": [],
   "source": []
  },
  {
   "cell_type": "code",
   "execution_count": null,
   "metadata": {},
   "outputs": [],
   "source": []
  }
 ],
 "metadata": {
  "kernelspec": {
   "display_name": "Python 3",
   "language": "python",
   "name": "python3"
  },
  "language_info": {
   "codemirror_mode": {
    "name": "ipython",
    "version": 3
   },
   "file_extension": ".py",
   "mimetype": "text/x-python",
   "name": "python",
   "nbconvert_exporter": "python",
   "pygments_lexer": "ipython3",
   "version": "3.7.1"
  }
 },
 "nbformat": 4,
 "nbformat_minor": 2
}
